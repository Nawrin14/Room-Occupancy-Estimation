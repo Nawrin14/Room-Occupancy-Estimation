{
  "nbformat": 4,
  "nbformat_minor": 0,
  "metadata": {
    "colab": {
      "provenance": []
    },
    "kernelspec": {
      "name": "python3",
      "display_name": "Python 3"
    },
    "language_info": {
      "name": "python"
    }
  },
  "cells": [
    {
      "cell_type": "markdown",
      "source": [
        "#Room Occupancy Estimation\n",
        "Estimating the precise number of occupants in a room using environmental sensors\n",
        "\n",
        "#1. Importing necessary libraries"
      ],
      "metadata": {
        "id": "YMkU6XAedS_l"
      }
    },
    {
      "cell_type": "code",
      "execution_count": 1,
      "metadata": {
        "id": "16_5dkrCcQ27"
      },
      "outputs": [],
      "source": [
        "import pandas as pd\n",
        "import numpy as np \n",
        "from sklearn import metrics\n",
        "import matplotlib.pyplot as plt\n",
        "import seaborn as sns \n",
        "from imblearn.over_sampling import SMOTE\n",
        "from collections import Counter\n",
        "from matplotlib import pyplot\n",
        "from sklearn.preprocessing import LabelEncoder\n",
        "from sklearn.preprocessing import StandardScaler\n",
        "from sklearn.model_selection import train_test_split\n",
        "from sklearn.svm import SVC\n",
        "from sklearn.naive_bayes import GaussianNB\n",
        "from sklearn.linear_model import LogisticRegression\n",
        "from sklearn.neighbors import KNeighborsClassifier\n",
        "from sklearn.tree import DecisionTreeClassifier\n",
        "from sklearn.multioutput import MultiOutputClassifier"
      ]
    },
    {
      "cell_type": "markdown",
      "source": [
        "#2. Data preprocessing"
      ],
      "metadata": {
        "id": "GTHn16A6gGt-"
      }
    },
    {
      "cell_type": "code",
      "source": [
        "from google.colab import drive\n",
        "drive.mount('/content/drive')"
      ],
      "metadata": {
        "colab": {
          "base_uri": "https://localhost:8080/"
        },
        "id": "n3TdPyk1exGP",
        "outputId": "f69ead56-f01b-40e2-e024-62921243cbd4"
      },
      "execution_count": 2,
      "outputs": [
        {
          "output_type": "stream",
          "name": "stdout",
          "text": [
            "Mounted at /content/drive\n"
          ]
        }
      ]
    },
    {
      "cell_type": "code",
      "source": [
        "path = '/content/drive/MyDrive/ROE Dataset/Room_Occupancy_Estimation.csv'\n",
        "dataset = pd.read_csv(path, encoding='utf-8-sig', engine='python')\n",
        "dataset.head()"
      ],
      "metadata": {
        "id": "Cn0y2u3CfEHf",
        "colab": {
          "base_uri": "https://localhost:8080/",
          "height": 270
        },
        "outputId": "bdf80ebc-3425-4c07-fd7a-7c50e99ec733"
      },
      "execution_count": 3,
      "outputs": [
        {
          "output_type": "execute_result",
          "data": {
            "text/plain": [
              "         Date      Time  S1_Temp  S2_Temp  S3_Temp  S4_Temp  S1_Light  \\\n",
              "0  2017/12/22  10:49:41    24.94    24.75    24.56    25.38       121   \n",
              "1  2017/12/22  10:50:12    24.94    24.75    24.56    25.44       121   \n",
              "2  2017/12/22  10:50:42    25.00    24.75    24.50    25.44       121   \n",
              "3  2017/12/22  10:51:13    25.00    24.75    24.56    25.44       121   \n",
              "4  2017/12/22  10:51:44    25.00    24.75    24.56    25.44       121   \n",
              "\n",
              "   S2_Light  S3_Light  S4_Light  S1_Sound  S2_Sound  S3_Sound  S4_Sound  \\\n",
              "0        34        53        40      0.08      0.19      0.06      0.06   \n",
              "1        33        53        40      0.93      0.05      0.06      0.06   \n",
              "2        34        53        40      0.43      0.11      0.08      0.06   \n",
              "3        34        53        40      0.41      0.10      0.10      0.09   \n",
              "4        34        54        40      0.18      0.06      0.06      0.06   \n",
              "\n",
              "   S5_CO2  S5_CO2_Slope  S6_PIR  S7_PIR  Room_Occupancy_Count  \n",
              "0     390      0.769231       0       0                     1  \n",
              "1     390      0.646154       0       0                     1  \n",
              "2     390      0.519231       0       0                     1  \n",
              "3     390      0.388462       0       0                     1  \n",
              "4     390      0.253846       0       0                     1  "
            ],
            "text/html": [
              "\n",
              "  <div id=\"df-57721940-4592-4675-b174-366496614b18\">\n",
              "    <div class=\"colab-df-container\">\n",
              "      <div>\n",
              "<style scoped>\n",
              "    .dataframe tbody tr th:only-of-type {\n",
              "        vertical-align: middle;\n",
              "    }\n",
              "\n",
              "    .dataframe tbody tr th {\n",
              "        vertical-align: top;\n",
              "    }\n",
              "\n",
              "    .dataframe thead th {\n",
              "        text-align: right;\n",
              "    }\n",
              "</style>\n",
              "<table border=\"1\" class=\"dataframe\">\n",
              "  <thead>\n",
              "    <tr style=\"text-align: right;\">\n",
              "      <th></th>\n",
              "      <th>Date</th>\n",
              "      <th>Time</th>\n",
              "      <th>S1_Temp</th>\n",
              "      <th>S2_Temp</th>\n",
              "      <th>S3_Temp</th>\n",
              "      <th>S4_Temp</th>\n",
              "      <th>S1_Light</th>\n",
              "      <th>S2_Light</th>\n",
              "      <th>S3_Light</th>\n",
              "      <th>S4_Light</th>\n",
              "      <th>S1_Sound</th>\n",
              "      <th>S2_Sound</th>\n",
              "      <th>S3_Sound</th>\n",
              "      <th>S4_Sound</th>\n",
              "      <th>S5_CO2</th>\n",
              "      <th>S5_CO2_Slope</th>\n",
              "      <th>S6_PIR</th>\n",
              "      <th>S7_PIR</th>\n",
              "      <th>Room_Occupancy_Count</th>\n",
              "    </tr>\n",
              "  </thead>\n",
              "  <tbody>\n",
              "    <tr>\n",
              "      <th>0</th>\n",
              "      <td>2017/12/22</td>\n",
              "      <td>10:49:41</td>\n",
              "      <td>24.94</td>\n",
              "      <td>24.75</td>\n",
              "      <td>24.56</td>\n",
              "      <td>25.38</td>\n",
              "      <td>121</td>\n",
              "      <td>34</td>\n",
              "      <td>53</td>\n",
              "      <td>40</td>\n",
              "      <td>0.08</td>\n",
              "      <td>0.19</td>\n",
              "      <td>0.06</td>\n",
              "      <td>0.06</td>\n",
              "      <td>390</td>\n",
              "      <td>0.769231</td>\n",
              "      <td>0</td>\n",
              "      <td>0</td>\n",
              "      <td>1</td>\n",
              "    </tr>\n",
              "    <tr>\n",
              "      <th>1</th>\n",
              "      <td>2017/12/22</td>\n",
              "      <td>10:50:12</td>\n",
              "      <td>24.94</td>\n",
              "      <td>24.75</td>\n",
              "      <td>24.56</td>\n",
              "      <td>25.44</td>\n",
              "      <td>121</td>\n",
              "      <td>33</td>\n",
              "      <td>53</td>\n",
              "      <td>40</td>\n",
              "      <td>0.93</td>\n",
              "      <td>0.05</td>\n",
              "      <td>0.06</td>\n",
              "      <td>0.06</td>\n",
              "      <td>390</td>\n",
              "      <td>0.646154</td>\n",
              "      <td>0</td>\n",
              "      <td>0</td>\n",
              "      <td>1</td>\n",
              "    </tr>\n",
              "    <tr>\n",
              "      <th>2</th>\n",
              "      <td>2017/12/22</td>\n",
              "      <td>10:50:42</td>\n",
              "      <td>25.00</td>\n",
              "      <td>24.75</td>\n",
              "      <td>24.50</td>\n",
              "      <td>25.44</td>\n",
              "      <td>121</td>\n",
              "      <td>34</td>\n",
              "      <td>53</td>\n",
              "      <td>40</td>\n",
              "      <td>0.43</td>\n",
              "      <td>0.11</td>\n",
              "      <td>0.08</td>\n",
              "      <td>0.06</td>\n",
              "      <td>390</td>\n",
              "      <td>0.519231</td>\n",
              "      <td>0</td>\n",
              "      <td>0</td>\n",
              "      <td>1</td>\n",
              "    </tr>\n",
              "    <tr>\n",
              "      <th>3</th>\n",
              "      <td>2017/12/22</td>\n",
              "      <td>10:51:13</td>\n",
              "      <td>25.00</td>\n",
              "      <td>24.75</td>\n",
              "      <td>24.56</td>\n",
              "      <td>25.44</td>\n",
              "      <td>121</td>\n",
              "      <td>34</td>\n",
              "      <td>53</td>\n",
              "      <td>40</td>\n",
              "      <td>0.41</td>\n",
              "      <td>0.10</td>\n",
              "      <td>0.10</td>\n",
              "      <td>0.09</td>\n",
              "      <td>390</td>\n",
              "      <td>0.388462</td>\n",
              "      <td>0</td>\n",
              "      <td>0</td>\n",
              "      <td>1</td>\n",
              "    </tr>\n",
              "    <tr>\n",
              "      <th>4</th>\n",
              "      <td>2017/12/22</td>\n",
              "      <td>10:51:44</td>\n",
              "      <td>25.00</td>\n",
              "      <td>24.75</td>\n",
              "      <td>24.56</td>\n",
              "      <td>25.44</td>\n",
              "      <td>121</td>\n",
              "      <td>34</td>\n",
              "      <td>54</td>\n",
              "      <td>40</td>\n",
              "      <td>0.18</td>\n",
              "      <td>0.06</td>\n",
              "      <td>0.06</td>\n",
              "      <td>0.06</td>\n",
              "      <td>390</td>\n",
              "      <td>0.253846</td>\n",
              "      <td>0</td>\n",
              "      <td>0</td>\n",
              "      <td>1</td>\n",
              "    </tr>\n",
              "  </tbody>\n",
              "</table>\n",
              "</div>\n",
              "      <button class=\"colab-df-convert\" onclick=\"convertToInteractive('df-57721940-4592-4675-b174-366496614b18')\"\n",
              "              title=\"Convert this dataframe to an interactive table.\"\n",
              "              style=\"display:none;\">\n",
              "        \n",
              "  <svg xmlns=\"http://www.w3.org/2000/svg\" height=\"24px\"viewBox=\"0 0 24 24\"\n",
              "       width=\"24px\">\n",
              "    <path d=\"M0 0h24v24H0V0z\" fill=\"none\"/>\n",
              "    <path d=\"M18.56 5.44l.94 2.06.94-2.06 2.06-.94-2.06-.94-.94-2.06-.94 2.06-2.06.94zm-11 1L8.5 8.5l.94-2.06 2.06-.94-2.06-.94L8.5 2.5l-.94 2.06-2.06.94zm10 10l.94 2.06.94-2.06 2.06-.94-2.06-.94-.94-2.06-.94 2.06-2.06.94z\"/><path d=\"M17.41 7.96l-1.37-1.37c-.4-.4-.92-.59-1.43-.59-.52 0-1.04.2-1.43.59L10.3 9.45l-7.72 7.72c-.78.78-.78 2.05 0 2.83L4 21.41c.39.39.9.59 1.41.59.51 0 1.02-.2 1.41-.59l7.78-7.78 2.81-2.81c.8-.78.8-2.07 0-2.86zM5.41 20L4 18.59l7.72-7.72 1.47 1.35L5.41 20z\"/>\n",
              "  </svg>\n",
              "      </button>\n",
              "      \n",
              "  <style>\n",
              "    .colab-df-container {\n",
              "      display:flex;\n",
              "      flex-wrap:wrap;\n",
              "      gap: 12px;\n",
              "    }\n",
              "\n",
              "    .colab-df-convert {\n",
              "      background-color: #E8F0FE;\n",
              "      border: none;\n",
              "      border-radius: 50%;\n",
              "      cursor: pointer;\n",
              "      display: none;\n",
              "      fill: #1967D2;\n",
              "      height: 32px;\n",
              "      padding: 0 0 0 0;\n",
              "      width: 32px;\n",
              "    }\n",
              "\n",
              "    .colab-df-convert:hover {\n",
              "      background-color: #E2EBFA;\n",
              "      box-shadow: 0px 1px 2px rgba(60, 64, 67, 0.3), 0px 1px 3px 1px rgba(60, 64, 67, 0.15);\n",
              "      fill: #174EA6;\n",
              "    }\n",
              "\n",
              "    [theme=dark] .colab-df-convert {\n",
              "      background-color: #3B4455;\n",
              "      fill: #D2E3FC;\n",
              "    }\n",
              "\n",
              "    [theme=dark] .colab-df-convert:hover {\n",
              "      background-color: #434B5C;\n",
              "      box-shadow: 0px 1px 3px 1px rgba(0, 0, 0, 0.15);\n",
              "      filter: drop-shadow(0px 1px 2px rgba(0, 0, 0, 0.3));\n",
              "      fill: #FFFFFF;\n",
              "    }\n",
              "  </style>\n",
              "\n",
              "      <script>\n",
              "        const buttonEl =\n",
              "          document.querySelector('#df-57721940-4592-4675-b174-366496614b18 button.colab-df-convert');\n",
              "        buttonEl.style.display =\n",
              "          google.colab.kernel.accessAllowed ? 'block' : 'none';\n",
              "\n",
              "        async function convertToInteractive(key) {\n",
              "          const element = document.querySelector('#df-57721940-4592-4675-b174-366496614b18');\n",
              "          const dataTable =\n",
              "            await google.colab.kernel.invokeFunction('convertToInteractive',\n",
              "                                                     [key], {});\n",
              "          if (!dataTable) return;\n",
              "\n",
              "          const docLinkHtml = 'Like what you see? Visit the ' +\n",
              "            '<a target=\"_blank\" href=https://colab.research.google.com/notebooks/data_table.ipynb>data table notebook</a>'\n",
              "            + ' to learn more about interactive tables.';\n",
              "          element.innerHTML = '';\n",
              "          dataTable['output_type'] = 'display_data';\n",
              "          await google.colab.output.renderOutput(dataTable, element);\n",
              "          const docLink = document.createElement('div');\n",
              "          docLink.innerHTML = docLinkHtml;\n",
              "          element.appendChild(docLink);\n",
              "        }\n",
              "      </script>\n",
              "    </div>\n",
              "  </div>\n",
              "  "
            ]
          },
          "metadata": {},
          "execution_count": 3
        }
      ]
    },
    {
      "cell_type": "code",
      "source": [
        "dataset.columns"
      ],
      "metadata": {
        "colab": {
          "base_uri": "https://localhost:8080/"
        },
        "id": "xlOoraEpEtmX",
        "outputId": "a0e86bf2-7537-45c1-924e-85682e08e15e"
      },
      "execution_count": 4,
      "outputs": [
        {
          "output_type": "execute_result",
          "data": {
            "text/plain": [
              "Index(['Date', 'Time', 'S1_Temp', 'S2_Temp', 'S3_Temp', 'S4_Temp', 'S1_Light',\n",
              "       'S2_Light', 'S3_Light', 'S4_Light', 'S1_Sound', 'S2_Sound', 'S3_Sound',\n",
              "       'S4_Sound', 'S5_CO2', 'S5_CO2_Slope', 'S6_PIR', 'S7_PIR',\n",
              "       'Room_Occupancy_Count'],\n",
              "      dtype='object')"
            ]
          },
          "metadata": {},
          "execution_count": 4
        }
      ]
    },
    {
      "cell_type": "code",
      "source": [
        "dataset.describe()"
      ],
      "metadata": {
        "colab": {
          "base_uri": "https://localhost:8080/",
          "height": 364
        },
        "id": "srFu65GoE5vj",
        "outputId": "9ce4b535-3f55-47b0-beff-e492eb1923ff"
      },
      "execution_count": 5,
      "outputs": [
        {
          "output_type": "execute_result",
          "data": {
            "text/plain": [
              "            S1_Temp       S2_Temp       S3_Temp       S4_Temp      S1_Light  \\\n",
              "count  10129.000000  10129.000000  10129.000000  10129.000000  10129.000000   \n",
              "mean      25.454012     25.546059     25.056621     25.754125     25.445059   \n",
              "std        0.351351      0.586325      0.427283      0.356434     51.011264   \n",
              "min       24.940000     24.750000     24.440000     24.940000      0.000000   \n",
              "25%       25.190000     25.190000     24.690000     25.440000      0.000000   \n",
              "50%       25.380000     25.380000     24.940000     25.750000      0.000000   \n",
              "75%       25.630000     25.630000     25.380000     26.000000     12.000000   \n",
              "max       26.380000     29.000000     26.190000     26.560000    165.000000   \n",
              "\n",
              "          S2_Light      S3_Light      S4_Light      S1_Sound      S2_Sound  \\\n",
              "count  10129.00000  10129.000000  10129.000000  10129.000000  10129.000000   \n",
              "mean      26.01629     34.248494     13.220259      0.168178      0.120066   \n",
              "std       67.30417     58.400744     19.602219      0.316709      0.266503   \n",
              "min        0.00000      0.000000      0.000000      0.060000      0.040000   \n",
              "25%        0.00000      0.000000      0.000000      0.070000      0.050000   \n",
              "50%        0.00000      0.000000      0.000000      0.080000      0.050000   \n",
              "75%       14.00000     50.000000     22.000000      0.080000      0.060000   \n",
              "max      258.00000    280.000000     74.000000      3.880000      3.440000   \n",
              "\n",
              "           S3_Sound      S4_Sound        S5_CO2  S5_CO2_Slope        S6_PIR  \\\n",
              "count  10129.000000  10129.000000  10129.000000  10129.000000  10129.000000   \n",
              "mean       0.158119      0.103840    460.860401     -0.004830      0.090137   \n",
              "std        0.413637      0.120683    199.964940      1.164990      0.286392   \n",
              "min        0.040000      0.050000    345.000000     -6.296154      0.000000   \n",
              "25%        0.060000      0.060000    355.000000     -0.046154      0.000000   \n",
              "50%        0.060000      0.080000    360.000000      0.000000      0.000000   \n",
              "75%        0.070000      0.100000    465.000000      0.000000      0.000000   \n",
              "max        3.670000      3.400000   1270.000000      8.980769      1.000000   \n",
              "\n",
              "             S7_PIR  Room_Occupancy_Count  \n",
              "count  10129.000000          10129.000000  \n",
              "mean       0.079574              0.398559  \n",
              "std        0.270645              0.893633  \n",
              "min        0.000000              0.000000  \n",
              "25%        0.000000              0.000000  \n",
              "50%        0.000000              0.000000  \n",
              "75%        0.000000              0.000000  \n",
              "max        1.000000              3.000000  "
            ],
            "text/html": [
              "\n",
              "  <div id=\"df-28df7da4-ae59-430a-b948-0a43a75ab1fc\">\n",
              "    <div class=\"colab-df-container\">\n",
              "      <div>\n",
              "<style scoped>\n",
              "    .dataframe tbody tr th:only-of-type {\n",
              "        vertical-align: middle;\n",
              "    }\n",
              "\n",
              "    .dataframe tbody tr th {\n",
              "        vertical-align: top;\n",
              "    }\n",
              "\n",
              "    .dataframe thead th {\n",
              "        text-align: right;\n",
              "    }\n",
              "</style>\n",
              "<table border=\"1\" class=\"dataframe\">\n",
              "  <thead>\n",
              "    <tr style=\"text-align: right;\">\n",
              "      <th></th>\n",
              "      <th>S1_Temp</th>\n",
              "      <th>S2_Temp</th>\n",
              "      <th>S3_Temp</th>\n",
              "      <th>S4_Temp</th>\n",
              "      <th>S1_Light</th>\n",
              "      <th>S2_Light</th>\n",
              "      <th>S3_Light</th>\n",
              "      <th>S4_Light</th>\n",
              "      <th>S1_Sound</th>\n",
              "      <th>S2_Sound</th>\n",
              "      <th>S3_Sound</th>\n",
              "      <th>S4_Sound</th>\n",
              "      <th>S5_CO2</th>\n",
              "      <th>S5_CO2_Slope</th>\n",
              "      <th>S6_PIR</th>\n",
              "      <th>S7_PIR</th>\n",
              "      <th>Room_Occupancy_Count</th>\n",
              "    </tr>\n",
              "  </thead>\n",
              "  <tbody>\n",
              "    <tr>\n",
              "      <th>count</th>\n",
              "      <td>10129.000000</td>\n",
              "      <td>10129.000000</td>\n",
              "      <td>10129.000000</td>\n",
              "      <td>10129.000000</td>\n",
              "      <td>10129.000000</td>\n",
              "      <td>10129.00000</td>\n",
              "      <td>10129.000000</td>\n",
              "      <td>10129.000000</td>\n",
              "      <td>10129.000000</td>\n",
              "      <td>10129.000000</td>\n",
              "      <td>10129.000000</td>\n",
              "      <td>10129.000000</td>\n",
              "      <td>10129.000000</td>\n",
              "      <td>10129.000000</td>\n",
              "      <td>10129.000000</td>\n",
              "      <td>10129.000000</td>\n",
              "      <td>10129.000000</td>\n",
              "    </tr>\n",
              "    <tr>\n",
              "      <th>mean</th>\n",
              "      <td>25.454012</td>\n",
              "      <td>25.546059</td>\n",
              "      <td>25.056621</td>\n",
              "      <td>25.754125</td>\n",
              "      <td>25.445059</td>\n",
              "      <td>26.01629</td>\n",
              "      <td>34.248494</td>\n",
              "      <td>13.220259</td>\n",
              "      <td>0.168178</td>\n",
              "      <td>0.120066</td>\n",
              "      <td>0.158119</td>\n",
              "      <td>0.103840</td>\n",
              "      <td>460.860401</td>\n",
              "      <td>-0.004830</td>\n",
              "      <td>0.090137</td>\n",
              "      <td>0.079574</td>\n",
              "      <td>0.398559</td>\n",
              "    </tr>\n",
              "    <tr>\n",
              "      <th>std</th>\n",
              "      <td>0.351351</td>\n",
              "      <td>0.586325</td>\n",
              "      <td>0.427283</td>\n",
              "      <td>0.356434</td>\n",
              "      <td>51.011264</td>\n",
              "      <td>67.30417</td>\n",
              "      <td>58.400744</td>\n",
              "      <td>19.602219</td>\n",
              "      <td>0.316709</td>\n",
              "      <td>0.266503</td>\n",
              "      <td>0.413637</td>\n",
              "      <td>0.120683</td>\n",
              "      <td>199.964940</td>\n",
              "      <td>1.164990</td>\n",
              "      <td>0.286392</td>\n",
              "      <td>0.270645</td>\n",
              "      <td>0.893633</td>\n",
              "    </tr>\n",
              "    <tr>\n",
              "      <th>min</th>\n",
              "      <td>24.940000</td>\n",
              "      <td>24.750000</td>\n",
              "      <td>24.440000</td>\n",
              "      <td>24.940000</td>\n",
              "      <td>0.000000</td>\n",
              "      <td>0.00000</td>\n",
              "      <td>0.000000</td>\n",
              "      <td>0.000000</td>\n",
              "      <td>0.060000</td>\n",
              "      <td>0.040000</td>\n",
              "      <td>0.040000</td>\n",
              "      <td>0.050000</td>\n",
              "      <td>345.000000</td>\n",
              "      <td>-6.296154</td>\n",
              "      <td>0.000000</td>\n",
              "      <td>0.000000</td>\n",
              "      <td>0.000000</td>\n",
              "    </tr>\n",
              "    <tr>\n",
              "      <th>25%</th>\n",
              "      <td>25.190000</td>\n",
              "      <td>25.190000</td>\n",
              "      <td>24.690000</td>\n",
              "      <td>25.440000</td>\n",
              "      <td>0.000000</td>\n",
              "      <td>0.00000</td>\n",
              "      <td>0.000000</td>\n",
              "      <td>0.000000</td>\n",
              "      <td>0.070000</td>\n",
              "      <td>0.050000</td>\n",
              "      <td>0.060000</td>\n",
              "      <td>0.060000</td>\n",
              "      <td>355.000000</td>\n",
              "      <td>-0.046154</td>\n",
              "      <td>0.000000</td>\n",
              "      <td>0.000000</td>\n",
              "      <td>0.000000</td>\n",
              "    </tr>\n",
              "    <tr>\n",
              "      <th>50%</th>\n",
              "      <td>25.380000</td>\n",
              "      <td>25.380000</td>\n",
              "      <td>24.940000</td>\n",
              "      <td>25.750000</td>\n",
              "      <td>0.000000</td>\n",
              "      <td>0.00000</td>\n",
              "      <td>0.000000</td>\n",
              "      <td>0.000000</td>\n",
              "      <td>0.080000</td>\n",
              "      <td>0.050000</td>\n",
              "      <td>0.060000</td>\n",
              "      <td>0.080000</td>\n",
              "      <td>360.000000</td>\n",
              "      <td>0.000000</td>\n",
              "      <td>0.000000</td>\n",
              "      <td>0.000000</td>\n",
              "      <td>0.000000</td>\n",
              "    </tr>\n",
              "    <tr>\n",
              "      <th>75%</th>\n",
              "      <td>25.630000</td>\n",
              "      <td>25.630000</td>\n",
              "      <td>25.380000</td>\n",
              "      <td>26.000000</td>\n",
              "      <td>12.000000</td>\n",
              "      <td>14.00000</td>\n",
              "      <td>50.000000</td>\n",
              "      <td>22.000000</td>\n",
              "      <td>0.080000</td>\n",
              "      <td>0.060000</td>\n",
              "      <td>0.070000</td>\n",
              "      <td>0.100000</td>\n",
              "      <td>465.000000</td>\n",
              "      <td>0.000000</td>\n",
              "      <td>0.000000</td>\n",
              "      <td>0.000000</td>\n",
              "      <td>0.000000</td>\n",
              "    </tr>\n",
              "    <tr>\n",
              "      <th>max</th>\n",
              "      <td>26.380000</td>\n",
              "      <td>29.000000</td>\n",
              "      <td>26.190000</td>\n",
              "      <td>26.560000</td>\n",
              "      <td>165.000000</td>\n",
              "      <td>258.00000</td>\n",
              "      <td>280.000000</td>\n",
              "      <td>74.000000</td>\n",
              "      <td>3.880000</td>\n",
              "      <td>3.440000</td>\n",
              "      <td>3.670000</td>\n",
              "      <td>3.400000</td>\n",
              "      <td>1270.000000</td>\n",
              "      <td>8.980769</td>\n",
              "      <td>1.000000</td>\n",
              "      <td>1.000000</td>\n",
              "      <td>3.000000</td>\n",
              "    </tr>\n",
              "  </tbody>\n",
              "</table>\n",
              "</div>\n",
              "      <button class=\"colab-df-convert\" onclick=\"convertToInteractive('df-28df7da4-ae59-430a-b948-0a43a75ab1fc')\"\n",
              "              title=\"Convert this dataframe to an interactive table.\"\n",
              "              style=\"display:none;\">\n",
              "        \n",
              "  <svg xmlns=\"http://www.w3.org/2000/svg\" height=\"24px\"viewBox=\"0 0 24 24\"\n",
              "       width=\"24px\">\n",
              "    <path d=\"M0 0h24v24H0V0z\" fill=\"none\"/>\n",
              "    <path d=\"M18.56 5.44l.94 2.06.94-2.06 2.06-.94-2.06-.94-.94-2.06-.94 2.06-2.06.94zm-11 1L8.5 8.5l.94-2.06 2.06-.94-2.06-.94L8.5 2.5l-.94 2.06-2.06.94zm10 10l.94 2.06.94-2.06 2.06-.94-2.06-.94-.94-2.06-.94 2.06-2.06.94z\"/><path d=\"M17.41 7.96l-1.37-1.37c-.4-.4-.92-.59-1.43-.59-.52 0-1.04.2-1.43.59L10.3 9.45l-7.72 7.72c-.78.78-.78 2.05 0 2.83L4 21.41c.39.39.9.59 1.41.59.51 0 1.02-.2 1.41-.59l7.78-7.78 2.81-2.81c.8-.78.8-2.07 0-2.86zM5.41 20L4 18.59l7.72-7.72 1.47 1.35L5.41 20z\"/>\n",
              "  </svg>\n",
              "      </button>\n",
              "      \n",
              "  <style>\n",
              "    .colab-df-container {\n",
              "      display:flex;\n",
              "      flex-wrap:wrap;\n",
              "      gap: 12px;\n",
              "    }\n",
              "\n",
              "    .colab-df-convert {\n",
              "      background-color: #E8F0FE;\n",
              "      border: none;\n",
              "      border-radius: 50%;\n",
              "      cursor: pointer;\n",
              "      display: none;\n",
              "      fill: #1967D2;\n",
              "      height: 32px;\n",
              "      padding: 0 0 0 0;\n",
              "      width: 32px;\n",
              "    }\n",
              "\n",
              "    .colab-df-convert:hover {\n",
              "      background-color: #E2EBFA;\n",
              "      box-shadow: 0px 1px 2px rgba(60, 64, 67, 0.3), 0px 1px 3px 1px rgba(60, 64, 67, 0.15);\n",
              "      fill: #174EA6;\n",
              "    }\n",
              "\n",
              "    [theme=dark] .colab-df-convert {\n",
              "      background-color: #3B4455;\n",
              "      fill: #D2E3FC;\n",
              "    }\n",
              "\n",
              "    [theme=dark] .colab-df-convert:hover {\n",
              "      background-color: #434B5C;\n",
              "      box-shadow: 0px 1px 3px 1px rgba(0, 0, 0, 0.15);\n",
              "      filter: drop-shadow(0px 1px 2px rgba(0, 0, 0, 0.3));\n",
              "      fill: #FFFFFF;\n",
              "    }\n",
              "  </style>\n",
              "\n",
              "      <script>\n",
              "        const buttonEl =\n",
              "          document.querySelector('#df-28df7da4-ae59-430a-b948-0a43a75ab1fc button.colab-df-convert');\n",
              "        buttonEl.style.display =\n",
              "          google.colab.kernel.accessAllowed ? 'block' : 'none';\n",
              "\n",
              "        async function convertToInteractive(key) {\n",
              "          const element = document.querySelector('#df-28df7da4-ae59-430a-b948-0a43a75ab1fc');\n",
              "          const dataTable =\n",
              "            await google.colab.kernel.invokeFunction('convertToInteractive',\n",
              "                                                     [key], {});\n",
              "          if (!dataTable) return;\n",
              "\n",
              "          const docLinkHtml = 'Like what you see? Visit the ' +\n",
              "            '<a target=\"_blank\" href=https://colab.research.google.com/notebooks/data_table.ipynb>data table notebook</a>'\n",
              "            + ' to learn more about interactive tables.';\n",
              "          element.innerHTML = '';\n",
              "          dataTable['output_type'] = 'display_data';\n",
              "          await google.colab.output.renderOutput(dataTable, element);\n",
              "          const docLink = document.createElement('div');\n",
              "          docLink.innerHTML = docLinkHtml;\n",
              "          element.appendChild(docLink);\n",
              "        }\n",
              "      </script>\n",
              "    </div>\n",
              "  </div>\n",
              "  "
            ]
          },
          "metadata": {},
          "execution_count": 5
        }
      ]
    },
    {
      "cell_type": "code",
      "source": [
        "dataset.dtypes"
      ],
      "metadata": {
        "colab": {
          "base_uri": "https://localhost:8080/"
        },
        "id": "2_t3o8QHEzFf",
        "outputId": "1d744a3d-4659-4bc4-f6d5-ec4c1fa1ce5e"
      },
      "execution_count": 6,
      "outputs": [
        {
          "output_type": "execute_result",
          "data": {
            "text/plain": [
              "Date                     object\n",
              "Time                     object\n",
              "S1_Temp                 float64\n",
              "S2_Temp                 float64\n",
              "S3_Temp                 float64\n",
              "S4_Temp                 float64\n",
              "S1_Light                  int64\n",
              "S2_Light                  int64\n",
              "S3_Light                  int64\n",
              "S4_Light                  int64\n",
              "S1_Sound                float64\n",
              "S2_Sound                float64\n",
              "S3_Sound                float64\n",
              "S4_Sound                float64\n",
              "S5_CO2                    int64\n",
              "S5_CO2_Slope            float64\n",
              "S6_PIR                    int64\n",
              "S7_PIR                    int64\n",
              "Room_Occupancy_Count      int64\n",
              "dtype: object"
            ]
          },
          "metadata": {},
          "execution_count": 6
        }
      ]
    },
    {
      "cell_type": "code",
      "source": [
        "dataset[\"Date\"] = pd.to_datetime(dataset[\"Date\"])\n",
        "dataset[\"Time\"] = pd.to_timedelta(dataset[\"Time\"])"
      ],
      "metadata": {
        "id": "EUPnMjC2FSn_"
      },
      "execution_count": 7,
      "outputs": []
    },
    {
      "cell_type": "code",
      "source": [
        "dataset.dtypes"
      ],
      "metadata": {
        "colab": {
          "base_uri": "https://localhost:8080/"
        },
        "id": "rAq1ECQGFVyb",
        "outputId": "f92d62fa-5ad3-4c61-f70c-941733d9e410"
      },
      "execution_count": 8,
      "outputs": [
        {
          "output_type": "execute_result",
          "data": {
            "text/plain": [
              "Date                     datetime64[ns]\n",
              "Time                    timedelta64[ns]\n",
              "S1_Temp                         float64\n",
              "S2_Temp                         float64\n",
              "S3_Temp                         float64\n",
              "S4_Temp                         float64\n",
              "S1_Light                          int64\n",
              "S2_Light                          int64\n",
              "S3_Light                          int64\n",
              "S4_Light                          int64\n",
              "S1_Sound                        float64\n",
              "S2_Sound                        float64\n",
              "S3_Sound                        float64\n",
              "S4_Sound                        float64\n",
              "S5_CO2                            int64\n",
              "S5_CO2_Slope                    float64\n",
              "S6_PIR                            int64\n",
              "S7_PIR                            int64\n",
              "Room_Occupancy_Count              int64\n",
              "dtype: object"
            ]
          },
          "metadata": {},
          "execution_count": 8
        }
      ]
    },
    {
      "cell_type": "code",
      "source": [
        "dataset.isnull().sum()"
      ],
      "metadata": {
        "colab": {
          "base_uri": "https://localhost:8080/"
        },
        "id": "QWGRJocbLdZ-",
        "outputId": "a4c9a3c2-6472-4f07-a992-2c91102200f7"
      },
      "execution_count": 9,
      "outputs": [
        {
          "output_type": "execute_result",
          "data": {
            "text/plain": [
              "Date                    0\n",
              "Time                    0\n",
              "S1_Temp                 0\n",
              "S2_Temp                 0\n",
              "S3_Temp                 0\n",
              "S4_Temp                 0\n",
              "S1_Light                0\n",
              "S2_Light                0\n",
              "S3_Light                0\n",
              "S4_Light                0\n",
              "S1_Sound                0\n",
              "S2_Sound                0\n",
              "S3_Sound                0\n",
              "S4_Sound                0\n",
              "S5_CO2                  0\n",
              "S5_CO2_Slope            0\n",
              "S6_PIR                  0\n",
              "S7_PIR                  0\n",
              "Room_Occupancy_Count    0\n",
              "dtype: int64"
            ]
          },
          "metadata": {},
          "execution_count": 9
        }
      ]
    },
    {
      "cell_type": "markdown",
      "source": [
        "#3. Feature Extraction"
      ],
      "metadata": {
        "id": "eab80DnZ9jgT"
      }
    },
    {
      "cell_type": "code",
      "source": [
        "DateTime = dataset[\"Date\"] + dataset[\"Time\"]\n",
        "dataset.insert(loc = 0, column = \"Date_Time\", value = DateTime)"
      ],
      "metadata": {
        "id": "AtOcd9xO92nU"
      },
      "execution_count": 10,
      "outputs": []
    },
    {
      "cell_type": "code",
      "source": [
        "weekday = dataset['Date_Time'].dt.weekday + 1\n",
        "dataset.insert(loc = 0, column = \"Day of week\", value = weekday)\n",
        "\n",
        "dayhour = dataset['Date_Time'].dt.hour + 1\n",
        "dataset.insert(loc = 0, column = \"Hour of day\", value = dayhour)"
      ],
      "metadata": {
        "id": "m5ilQBoX97D3"
      },
      "execution_count": 11,
      "outputs": []
    },
    {
      "cell_type": "code",
      "source": [
        "temp_mean = dataset.iloc[:,5:9].mean(axis=1)\n",
        "dataset.insert(loc = 0, column = \"Mean_Temperature\", value = temp_mean)\n",
        "\n",
        "light_mean = dataset.iloc[:,9:13].mean(axis=1)\n",
        "dataset.insert(loc = 0, column = \"Mean_light\", value = light_mean)\n",
        "\n",
        "sound_mean = dataset.iloc[:,13:17].mean(axis=1)\n",
        "dataset.insert(loc = 0, column = \"Mean_sound\", value = sound_mean)"
      ],
      "metadata": {
        "id": "KmFpFM4M90hX"
      },
      "execution_count": 12,
      "outputs": []
    },
    {
      "cell_type": "code",
      "source": [
        "footsteps_sound = ((dataset['S1_Sound']+dataset['S2_Sound']+dataset['S3_Sound']+dataset['S4_Sound'])/4)*((dataset['S6_PIR']+dataset['S7_PIR']+0.1)/2)\n",
        "dataset.insert(loc = 16, column = \"Footsteps_Sound\", value = footsteps_sound)\n",
        "\n",
        "pir_level = dataset['S6_PIR']+dataset['S7_PIR']\n",
        "dataset.insert(loc = 17, column = \"PIR_Level\", value = pir_level)"
      ],
      "metadata": {
        "id": "4cpjicDv9f_M"
      },
      "execution_count": 13,
      "outputs": []
    },
    {
      "cell_type": "code",
      "source": [
        "rolling = dataset['S5_CO2'].rolling(window=10)\n",
        "rolling_mean = rolling.mean()\n",
        "dataset.insert(loc = 0, column = \"MA_CO2\", value = rolling_mean)"
      ],
      "metadata": {
        "id": "5qEHHnCm9-JZ"
      },
      "execution_count": 14,
      "outputs": []
    },
    {
      "cell_type": "code",
      "source": [
        "rolling = dataset['S5_CO2'].rolling(window=10)\n",
        "rolling_variance = rolling.var()\n",
        "dataset.insert(loc = 0, column = \"MV_CO2\", value = rolling_variance)"
      ],
      "metadata": {
        "id": "_fAZAKhh-Ax_"
      },
      "execution_count": 15,
      "outputs": []
    },
    {
      "cell_type": "code",
      "source": [
        "dataset.head(10)"
      ],
      "metadata": {
        "colab": {
          "base_uri": "https://localhost:8080/",
          "height": 664
        },
        "id": "JtnGHFObOtYi",
        "outputId": "8df0a11b-c578-46de-bdea-532856034de1"
      },
      "execution_count": 16,
      "outputs": [
        {
          "output_type": "execute_result",
          "data": {
            "text/plain": [
              "   MV_CO2  MA_CO2  Mean_sound  Mean_light  Mean_Temperature  Hour of day  \\\n",
              "0     NaN     NaN     23.3175      58.345           24.9075           11   \n",
              "1     NaN     NaN     23.4950      58.110           24.9225           11   \n",
              "2     NaN     NaN     23.3850      58.360           24.9225           11   \n",
              "3     NaN     NaN     23.3775      58.360           24.9375           11   \n",
              "4     NaN     NaN     23.5600      58.610           24.9375           11   \n",
              "5     NaN     NaN     23.5475      58.610           24.9525           11   \n",
              "6     NaN     NaN     23.9275      58.360           24.9375           11   \n",
              "7     NaN     NaN     23.7875      58.610           24.9525           11   \n",
              "8     NaN     NaN     24.7850      59.625           24.9675           11   \n",
              "9     0.0   390.0     26.1200      54.375           24.9675           11   \n",
              "\n",
              "   Day of week           Date_Time       Date            Time  ...  PIR_Level  \\\n",
              "0            5 2017-12-22 10:49:41 2017-12-22 0 days 10:49:41  ...          0   \n",
              "1            5 2017-12-22 10:50:12 2017-12-22 0 days 10:50:12  ...          0   \n",
              "2            5 2017-12-22 10:50:42 2017-12-22 0 days 10:50:42  ...          0   \n",
              "3            5 2017-12-22 10:51:13 2017-12-22 0 days 10:51:13  ...          0   \n",
              "4            5 2017-12-22 10:51:44 2017-12-22 0 days 10:51:44  ...          0   \n",
              "5            5 2017-12-22 10:52:14 2017-12-22 0 days 10:52:14  ...          0   \n",
              "6            5 2017-12-22 10:52:45 2017-12-22 0 days 10:52:45  ...          1   \n",
              "7            5 2017-12-22 10:53:15 2017-12-22 0 days 10:53:15  ...          0   \n",
              "8            5 2017-12-22 10:53:46 2017-12-22 0 days 10:53:46  ...          0   \n",
              "9            5 2017-12-22 10:54:17 2017-12-22 0 days 10:54:17  ...          2   \n",
              "\n",
              "   S1_Sound  S2_Sound  S3_Sound  S4_Sound  S5_CO2  S5_CO2_Slope  S6_PIR  \\\n",
              "0      0.08      0.19      0.06      0.06     390      0.769231       0   \n",
              "1      0.93      0.05      0.06      0.06     390      0.646154       0   \n",
              "2      0.43      0.11      0.08      0.06     390      0.519231       0   \n",
              "3      0.41      0.10      0.10      0.09     390      0.388462       0   \n",
              "4      0.18      0.06      0.06      0.06     390      0.253846       0   \n",
              "5      0.13      0.06      0.06      0.07     390      0.165385       0   \n",
              "6      1.39      0.32      0.43      0.06     390      0.076923       1   \n",
              "7      0.09      0.06      0.09      0.05     390     -0.011538       0   \n",
              "8      0.09      0.05      0.06      0.13     390     -0.100000       0   \n",
              "9      3.84      0.64      0.48      0.39     390     -0.188462       1   \n",
              "\n",
              "   S7_PIR  Room_Occupancy_Count  \n",
              "0       0                     1  \n",
              "1       0                     1  \n",
              "2       0                     1  \n",
              "3       0                     1  \n",
              "4       0                     1  \n",
              "5       0                     1  \n",
              "6       0                     1  \n",
              "7       0                     1  \n",
              "8       0                     1  \n",
              "9       1                     1  \n",
              "\n",
              "[10 rows x 29 columns]"
            ],
            "text/html": [
              "\n",
              "  <div id=\"df-2d6821c1-f51c-43f8-badc-e815d1481585\">\n",
              "    <div class=\"colab-df-container\">\n",
              "      <div>\n",
              "<style scoped>\n",
              "    .dataframe tbody tr th:only-of-type {\n",
              "        vertical-align: middle;\n",
              "    }\n",
              "\n",
              "    .dataframe tbody tr th {\n",
              "        vertical-align: top;\n",
              "    }\n",
              "\n",
              "    .dataframe thead th {\n",
              "        text-align: right;\n",
              "    }\n",
              "</style>\n",
              "<table border=\"1\" class=\"dataframe\">\n",
              "  <thead>\n",
              "    <tr style=\"text-align: right;\">\n",
              "      <th></th>\n",
              "      <th>MV_CO2</th>\n",
              "      <th>MA_CO2</th>\n",
              "      <th>Mean_sound</th>\n",
              "      <th>Mean_light</th>\n",
              "      <th>Mean_Temperature</th>\n",
              "      <th>Hour of day</th>\n",
              "      <th>Day of week</th>\n",
              "      <th>Date_Time</th>\n",
              "      <th>Date</th>\n",
              "      <th>Time</th>\n",
              "      <th>...</th>\n",
              "      <th>PIR_Level</th>\n",
              "      <th>S1_Sound</th>\n",
              "      <th>S2_Sound</th>\n",
              "      <th>S3_Sound</th>\n",
              "      <th>S4_Sound</th>\n",
              "      <th>S5_CO2</th>\n",
              "      <th>S5_CO2_Slope</th>\n",
              "      <th>S6_PIR</th>\n",
              "      <th>S7_PIR</th>\n",
              "      <th>Room_Occupancy_Count</th>\n",
              "    </tr>\n",
              "  </thead>\n",
              "  <tbody>\n",
              "    <tr>\n",
              "      <th>0</th>\n",
              "      <td>NaN</td>\n",
              "      <td>NaN</td>\n",
              "      <td>23.3175</td>\n",
              "      <td>58.345</td>\n",
              "      <td>24.9075</td>\n",
              "      <td>11</td>\n",
              "      <td>5</td>\n",
              "      <td>2017-12-22 10:49:41</td>\n",
              "      <td>2017-12-22</td>\n",
              "      <td>0 days 10:49:41</td>\n",
              "      <td>...</td>\n",
              "      <td>0</td>\n",
              "      <td>0.08</td>\n",
              "      <td>0.19</td>\n",
              "      <td>0.06</td>\n",
              "      <td>0.06</td>\n",
              "      <td>390</td>\n",
              "      <td>0.769231</td>\n",
              "      <td>0</td>\n",
              "      <td>0</td>\n",
              "      <td>1</td>\n",
              "    </tr>\n",
              "    <tr>\n",
              "      <th>1</th>\n",
              "      <td>NaN</td>\n",
              "      <td>NaN</td>\n",
              "      <td>23.4950</td>\n",
              "      <td>58.110</td>\n",
              "      <td>24.9225</td>\n",
              "      <td>11</td>\n",
              "      <td>5</td>\n",
              "      <td>2017-12-22 10:50:12</td>\n",
              "      <td>2017-12-22</td>\n",
              "      <td>0 days 10:50:12</td>\n",
              "      <td>...</td>\n",
              "      <td>0</td>\n",
              "      <td>0.93</td>\n",
              "      <td>0.05</td>\n",
              "      <td>0.06</td>\n",
              "      <td>0.06</td>\n",
              "      <td>390</td>\n",
              "      <td>0.646154</td>\n",
              "      <td>0</td>\n",
              "      <td>0</td>\n",
              "      <td>1</td>\n",
              "    </tr>\n",
              "    <tr>\n",
              "      <th>2</th>\n",
              "      <td>NaN</td>\n",
              "      <td>NaN</td>\n",
              "      <td>23.3850</td>\n",
              "      <td>58.360</td>\n",
              "      <td>24.9225</td>\n",
              "      <td>11</td>\n",
              "      <td>5</td>\n",
              "      <td>2017-12-22 10:50:42</td>\n",
              "      <td>2017-12-22</td>\n",
              "      <td>0 days 10:50:42</td>\n",
              "      <td>...</td>\n",
              "      <td>0</td>\n",
              "      <td>0.43</td>\n",
              "      <td>0.11</td>\n",
              "      <td>0.08</td>\n",
              "      <td>0.06</td>\n",
              "      <td>390</td>\n",
              "      <td>0.519231</td>\n",
              "      <td>0</td>\n",
              "      <td>0</td>\n",
              "      <td>1</td>\n",
              "    </tr>\n",
              "    <tr>\n",
              "      <th>3</th>\n",
              "      <td>NaN</td>\n",
              "      <td>NaN</td>\n",
              "      <td>23.3775</td>\n",
              "      <td>58.360</td>\n",
              "      <td>24.9375</td>\n",
              "      <td>11</td>\n",
              "      <td>5</td>\n",
              "      <td>2017-12-22 10:51:13</td>\n",
              "      <td>2017-12-22</td>\n",
              "      <td>0 days 10:51:13</td>\n",
              "      <td>...</td>\n",
              "      <td>0</td>\n",
              "      <td>0.41</td>\n",
              "      <td>0.10</td>\n",
              "      <td>0.10</td>\n",
              "      <td>0.09</td>\n",
              "      <td>390</td>\n",
              "      <td>0.388462</td>\n",
              "      <td>0</td>\n",
              "      <td>0</td>\n",
              "      <td>1</td>\n",
              "    </tr>\n",
              "    <tr>\n",
              "      <th>4</th>\n",
              "      <td>NaN</td>\n",
              "      <td>NaN</td>\n",
              "      <td>23.5600</td>\n",
              "      <td>58.610</td>\n",
              "      <td>24.9375</td>\n",
              "      <td>11</td>\n",
              "      <td>5</td>\n",
              "      <td>2017-12-22 10:51:44</td>\n",
              "      <td>2017-12-22</td>\n",
              "      <td>0 days 10:51:44</td>\n",
              "      <td>...</td>\n",
              "      <td>0</td>\n",
              "      <td>0.18</td>\n",
              "      <td>0.06</td>\n",
              "      <td>0.06</td>\n",
              "      <td>0.06</td>\n",
              "      <td>390</td>\n",
              "      <td>0.253846</td>\n",
              "      <td>0</td>\n",
              "      <td>0</td>\n",
              "      <td>1</td>\n",
              "    </tr>\n",
              "    <tr>\n",
              "      <th>5</th>\n",
              "      <td>NaN</td>\n",
              "      <td>NaN</td>\n",
              "      <td>23.5475</td>\n",
              "      <td>58.610</td>\n",
              "      <td>24.9525</td>\n",
              "      <td>11</td>\n",
              "      <td>5</td>\n",
              "      <td>2017-12-22 10:52:14</td>\n",
              "      <td>2017-12-22</td>\n",
              "      <td>0 days 10:52:14</td>\n",
              "      <td>...</td>\n",
              "      <td>0</td>\n",
              "      <td>0.13</td>\n",
              "      <td>0.06</td>\n",
              "      <td>0.06</td>\n",
              "      <td>0.07</td>\n",
              "      <td>390</td>\n",
              "      <td>0.165385</td>\n",
              "      <td>0</td>\n",
              "      <td>0</td>\n",
              "      <td>1</td>\n",
              "    </tr>\n",
              "    <tr>\n",
              "      <th>6</th>\n",
              "      <td>NaN</td>\n",
              "      <td>NaN</td>\n",
              "      <td>23.9275</td>\n",
              "      <td>58.360</td>\n",
              "      <td>24.9375</td>\n",
              "      <td>11</td>\n",
              "      <td>5</td>\n",
              "      <td>2017-12-22 10:52:45</td>\n",
              "      <td>2017-12-22</td>\n",
              "      <td>0 days 10:52:45</td>\n",
              "      <td>...</td>\n",
              "      <td>1</td>\n",
              "      <td>1.39</td>\n",
              "      <td>0.32</td>\n",
              "      <td>0.43</td>\n",
              "      <td>0.06</td>\n",
              "      <td>390</td>\n",
              "      <td>0.076923</td>\n",
              "      <td>1</td>\n",
              "      <td>0</td>\n",
              "      <td>1</td>\n",
              "    </tr>\n",
              "    <tr>\n",
              "      <th>7</th>\n",
              "      <td>NaN</td>\n",
              "      <td>NaN</td>\n",
              "      <td>23.7875</td>\n",
              "      <td>58.610</td>\n",
              "      <td>24.9525</td>\n",
              "      <td>11</td>\n",
              "      <td>5</td>\n",
              "      <td>2017-12-22 10:53:15</td>\n",
              "      <td>2017-12-22</td>\n",
              "      <td>0 days 10:53:15</td>\n",
              "      <td>...</td>\n",
              "      <td>0</td>\n",
              "      <td>0.09</td>\n",
              "      <td>0.06</td>\n",
              "      <td>0.09</td>\n",
              "      <td>0.05</td>\n",
              "      <td>390</td>\n",
              "      <td>-0.011538</td>\n",
              "      <td>0</td>\n",
              "      <td>0</td>\n",
              "      <td>1</td>\n",
              "    </tr>\n",
              "    <tr>\n",
              "      <th>8</th>\n",
              "      <td>NaN</td>\n",
              "      <td>NaN</td>\n",
              "      <td>24.7850</td>\n",
              "      <td>59.625</td>\n",
              "      <td>24.9675</td>\n",
              "      <td>11</td>\n",
              "      <td>5</td>\n",
              "      <td>2017-12-22 10:53:46</td>\n",
              "      <td>2017-12-22</td>\n",
              "      <td>0 days 10:53:46</td>\n",
              "      <td>...</td>\n",
              "      <td>0</td>\n",
              "      <td>0.09</td>\n",
              "      <td>0.05</td>\n",
              "      <td>0.06</td>\n",
              "      <td>0.13</td>\n",
              "      <td>390</td>\n",
              "      <td>-0.100000</td>\n",
              "      <td>0</td>\n",
              "      <td>0</td>\n",
              "      <td>1</td>\n",
              "    </tr>\n",
              "    <tr>\n",
              "      <th>9</th>\n",
              "      <td>0.0</td>\n",
              "      <td>390.0</td>\n",
              "      <td>26.1200</td>\n",
              "      <td>54.375</td>\n",
              "      <td>24.9675</td>\n",
              "      <td>11</td>\n",
              "      <td>5</td>\n",
              "      <td>2017-12-22 10:54:17</td>\n",
              "      <td>2017-12-22</td>\n",
              "      <td>0 days 10:54:17</td>\n",
              "      <td>...</td>\n",
              "      <td>2</td>\n",
              "      <td>3.84</td>\n",
              "      <td>0.64</td>\n",
              "      <td>0.48</td>\n",
              "      <td>0.39</td>\n",
              "      <td>390</td>\n",
              "      <td>-0.188462</td>\n",
              "      <td>1</td>\n",
              "      <td>1</td>\n",
              "      <td>1</td>\n",
              "    </tr>\n",
              "  </tbody>\n",
              "</table>\n",
              "<p>10 rows × 29 columns</p>\n",
              "</div>\n",
              "      <button class=\"colab-df-convert\" onclick=\"convertToInteractive('df-2d6821c1-f51c-43f8-badc-e815d1481585')\"\n",
              "              title=\"Convert this dataframe to an interactive table.\"\n",
              "              style=\"display:none;\">\n",
              "        \n",
              "  <svg xmlns=\"http://www.w3.org/2000/svg\" height=\"24px\"viewBox=\"0 0 24 24\"\n",
              "       width=\"24px\">\n",
              "    <path d=\"M0 0h24v24H0V0z\" fill=\"none\"/>\n",
              "    <path d=\"M18.56 5.44l.94 2.06.94-2.06 2.06-.94-2.06-.94-.94-2.06-.94 2.06-2.06.94zm-11 1L8.5 8.5l.94-2.06 2.06-.94-2.06-.94L8.5 2.5l-.94 2.06-2.06.94zm10 10l.94 2.06.94-2.06 2.06-.94-2.06-.94-.94-2.06-.94 2.06-2.06.94z\"/><path d=\"M17.41 7.96l-1.37-1.37c-.4-.4-.92-.59-1.43-.59-.52 0-1.04.2-1.43.59L10.3 9.45l-7.72 7.72c-.78.78-.78 2.05 0 2.83L4 21.41c.39.39.9.59 1.41.59.51 0 1.02-.2 1.41-.59l7.78-7.78 2.81-2.81c.8-.78.8-2.07 0-2.86zM5.41 20L4 18.59l7.72-7.72 1.47 1.35L5.41 20z\"/>\n",
              "  </svg>\n",
              "      </button>\n",
              "      \n",
              "  <style>\n",
              "    .colab-df-container {\n",
              "      display:flex;\n",
              "      flex-wrap:wrap;\n",
              "      gap: 12px;\n",
              "    }\n",
              "\n",
              "    .colab-df-convert {\n",
              "      background-color: #E8F0FE;\n",
              "      border: none;\n",
              "      border-radius: 50%;\n",
              "      cursor: pointer;\n",
              "      display: none;\n",
              "      fill: #1967D2;\n",
              "      height: 32px;\n",
              "      padding: 0 0 0 0;\n",
              "      width: 32px;\n",
              "    }\n",
              "\n",
              "    .colab-df-convert:hover {\n",
              "      background-color: #E2EBFA;\n",
              "      box-shadow: 0px 1px 2px rgba(60, 64, 67, 0.3), 0px 1px 3px 1px rgba(60, 64, 67, 0.15);\n",
              "      fill: #174EA6;\n",
              "    }\n",
              "\n",
              "    [theme=dark] .colab-df-convert {\n",
              "      background-color: #3B4455;\n",
              "      fill: #D2E3FC;\n",
              "    }\n",
              "\n",
              "    [theme=dark] .colab-df-convert:hover {\n",
              "      background-color: #434B5C;\n",
              "      box-shadow: 0px 1px 3px 1px rgba(0, 0, 0, 0.15);\n",
              "      filter: drop-shadow(0px 1px 2px rgba(0, 0, 0, 0.3));\n",
              "      fill: #FFFFFF;\n",
              "    }\n",
              "  </style>\n",
              "\n",
              "      <script>\n",
              "        const buttonEl =\n",
              "          document.querySelector('#df-2d6821c1-f51c-43f8-badc-e815d1481585 button.colab-df-convert');\n",
              "        buttonEl.style.display =\n",
              "          google.colab.kernel.accessAllowed ? 'block' : 'none';\n",
              "\n",
              "        async function convertToInteractive(key) {\n",
              "          const element = document.querySelector('#df-2d6821c1-f51c-43f8-badc-e815d1481585');\n",
              "          const dataTable =\n",
              "            await google.colab.kernel.invokeFunction('convertToInteractive',\n",
              "                                                     [key], {});\n",
              "          if (!dataTable) return;\n",
              "\n",
              "          const docLinkHtml = 'Like what you see? Visit the ' +\n",
              "            '<a target=\"_blank\" href=https://colab.research.google.com/notebooks/data_table.ipynb>data table notebook</a>'\n",
              "            + ' to learn more about interactive tables.';\n",
              "          element.innerHTML = '';\n",
              "          dataTable['output_type'] = 'display_data';\n",
              "          await google.colab.output.renderOutput(dataTable, element);\n",
              "          const docLink = document.createElement('div');\n",
              "          docLink.innerHTML = docLinkHtml;\n",
              "          element.appendChild(docLink);\n",
              "        }\n",
              "      </script>\n",
              "    </div>\n",
              "  </div>\n",
              "  "
            ]
          },
          "metadata": {},
          "execution_count": 16
        }
      ]
    },
    {
      "cell_type": "code",
      "source": [
        "dataset = dataset.dropna()\n",
        "dataset = dataset.reset_index()\n",
        "dataset = dataset.drop(['index'], axis=1)\n",
        "dataset.head()"
      ],
      "metadata": {
        "colab": {
          "base_uri": "https://localhost:8080/",
          "height": 421
        },
        "id": "A2cuV0GOO27o",
        "outputId": "a735dd15-d668-4d29-ba52-1fdbed43977f"
      },
      "execution_count": 17,
      "outputs": [
        {
          "output_type": "execute_result",
          "data": {
            "text/plain": [
              "   MV_CO2  MA_CO2  Mean_sound  Mean_light  Mean_Temperature  Hour of day  \\\n",
              "0     0.0   390.0     26.1200      54.375           24.9675           11   \n",
              "1     0.0   390.0     25.6275      59.860           24.9675           11   \n",
              "2     0.0   390.0     25.3875      60.125           24.9825           11   \n",
              "3     0.0   390.0     25.0900      60.125           25.0175           11   \n",
              "4     0.0   390.0     25.7175      60.140           25.0150           11   \n",
              "\n",
              "   Day of week           Date_Time       Date            Time  ...  PIR_Level  \\\n",
              "0            5 2017-12-22 10:54:17 2017-12-22 0 days 10:54:17  ...          2   \n",
              "1            5 2017-12-22 10:54:47 2017-12-22 0 days 10:54:47  ...          2   \n",
              "2            5 2017-12-22 10:55:18 2017-12-22 0 days 10:55:18  ...          1   \n",
              "3            5 2017-12-22 10:55:49 2017-12-22 0 days 10:55:49  ...          1   \n",
              "4            5 2017-12-22 10:56:19 2017-12-22 0 days 10:56:19  ...          1   \n",
              "\n",
              "   S1_Sound  S2_Sound  S3_Sound  S4_Sound  S5_CO2  S5_CO2_Slope  S6_PIR  \\\n",
              "0      3.84      0.64      0.48      0.39     390     -0.188462       1   \n",
              "1      2.20      0.31      0.33      0.21     390     -0.276923       1   \n",
              "2      0.42      0.13      0.14      0.09     390     -0.365385       1   \n",
              "3      0.21      0.15      0.07      0.06     390     -0.453846       1   \n",
              "4      1.66      0.21      0.12      0.09     390     -0.542308       1   \n",
              "\n",
              "   S7_PIR  Room_Occupancy_Count  \n",
              "0       1                     1  \n",
              "1       1                     1  \n",
              "2       0                     1  \n",
              "3       0                     1  \n",
              "4       0                     1  \n",
              "\n",
              "[5 rows x 29 columns]"
            ],
            "text/html": [
              "\n",
              "  <div id=\"df-d5323e2a-64d7-487f-b681-8b095dc0031a\">\n",
              "    <div class=\"colab-df-container\">\n",
              "      <div>\n",
              "<style scoped>\n",
              "    .dataframe tbody tr th:only-of-type {\n",
              "        vertical-align: middle;\n",
              "    }\n",
              "\n",
              "    .dataframe tbody tr th {\n",
              "        vertical-align: top;\n",
              "    }\n",
              "\n",
              "    .dataframe thead th {\n",
              "        text-align: right;\n",
              "    }\n",
              "</style>\n",
              "<table border=\"1\" class=\"dataframe\">\n",
              "  <thead>\n",
              "    <tr style=\"text-align: right;\">\n",
              "      <th></th>\n",
              "      <th>MV_CO2</th>\n",
              "      <th>MA_CO2</th>\n",
              "      <th>Mean_sound</th>\n",
              "      <th>Mean_light</th>\n",
              "      <th>Mean_Temperature</th>\n",
              "      <th>Hour of day</th>\n",
              "      <th>Day of week</th>\n",
              "      <th>Date_Time</th>\n",
              "      <th>Date</th>\n",
              "      <th>Time</th>\n",
              "      <th>...</th>\n",
              "      <th>PIR_Level</th>\n",
              "      <th>S1_Sound</th>\n",
              "      <th>S2_Sound</th>\n",
              "      <th>S3_Sound</th>\n",
              "      <th>S4_Sound</th>\n",
              "      <th>S5_CO2</th>\n",
              "      <th>S5_CO2_Slope</th>\n",
              "      <th>S6_PIR</th>\n",
              "      <th>S7_PIR</th>\n",
              "      <th>Room_Occupancy_Count</th>\n",
              "    </tr>\n",
              "  </thead>\n",
              "  <tbody>\n",
              "    <tr>\n",
              "      <th>0</th>\n",
              "      <td>0.0</td>\n",
              "      <td>390.0</td>\n",
              "      <td>26.1200</td>\n",
              "      <td>54.375</td>\n",
              "      <td>24.9675</td>\n",
              "      <td>11</td>\n",
              "      <td>5</td>\n",
              "      <td>2017-12-22 10:54:17</td>\n",
              "      <td>2017-12-22</td>\n",
              "      <td>0 days 10:54:17</td>\n",
              "      <td>...</td>\n",
              "      <td>2</td>\n",
              "      <td>3.84</td>\n",
              "      <td>0.64</td>\n",
              "      <td>0.48</td>\n",
              "      <td>0.39</td>\n",
              "      <td>390</td>\n",
              "      <td>-0.188462</td>\n",
              "      <td>1</td>\n",
              "      <td>1</td>\n",
              "      <td>1</td>\n",
              "    </tr>\n",
              "    <tr>\n",
              "      <th>1</th>\n",
              "      <td>0.0</td>\n",
              "      <td>390.0</td>\n",
              "      <td>25.6275</td>\n",
              "      <td>59.860</td>\n",
              "      <td>24.9675</td>\n",
              "      <td>11</td>\n",
              "      <td>5</td>\n",
              "      <td>2017-12-22 10:54:47</td>\n",
              "      <td>2017-12-22</td>\n",
              "      <td>0 days 10:54:47</td>\n",
              "      <td>...</td>\n",
              "      <td>2</td>\n",
              "      <td>2.20</td>\n",
              "      <td>0.31</td>\n",
              "      <td>0.33</td>\n",
              "      <td>0.21</td>\n",
              "      <td>390</td>\n",
              "      <td>-0.276923</td>\n",
              "      <td>1</td>\n",
              "      <td>1</td>\n",
              "      <td>1</td>\n",
              "    </tr>\n",
              "    <tr>\n",
              "      <th>2</th>\n",
              "      <td>0.0</td>\n",
              "      <td>390.0</td>\n",
              "      <td>25.3875</td>\n",
              "      <td>60.125</td>\n",
              "      <td>24.9825</td>\n",
              "      <td>11</td>\n",
              "      <td>5</td>\n",
              "      <td>2017-12-22 10:55:18</td>\n",
              "      <td>2017-12-22</td>\n",
              "      <td>0 days 10:55:18</td>\n",
              "      <td>...</td>\n",
              "      <td>1</td>\n",
              "      <td>0.42</td>\n",
              "      <td>0.13</td>\n",
              "      <td>0.14</td>\n",
              "      <td>0.09</td>\n",
              "      <td>390</td>\n",
              "      <td>-0.365385</td>\n",
              "      <td>1</td>\n",
              "      <td>0</td>\n",
              "      <td>1</td>\n",
              "    </tr>\n",
              "    <tr>\n",
              "      <th>3</th>\n",
              "      <td>0.0</td>\n",
              "      <td>390.0</td>\n",
              "      <td>25.0900</td>\n",
              "      <td>60.125</td>\n",
              "      <td>25.0175</td>\n",
              "      <td>11</td>\n",
              "      <td>5</td>\n",
              "      <td>2017-12-22 10:55:49</td>\n",
              "      <td>2017-12-22</td>\n",
              "      <td>0 days 10:55:49</td>\n",
              "      <td>...</td>\n",
              "      <td>1</td>\n",
              "      <td>0.21</td>\n",
              "      <td>0.15</td>\n",
              "      <td>0.07</td>\n",
              "      <td>0.06</td>\n",
              "      <td>390</td>\n",
              "      <td>-0.453846</td>\n",
              "      <td>1</td>\n",
              "      <td>0</td>\n",
              "      <td>1</td>\n",
              "    </tr>\n",
              "    <tr>\n",
              "      <th>4</th>\n",
              "      <td>0.0</td>\n",
              "      <td>390.0</td>\n",
              "      <td>25.7175</td>\n",
              "      <td>60.140</td>\n",
              "      <td>25.0150</td>\n",
              "      <td>11</td>\n",
              "      <td>5</td>\n",
              "      <td>2017-12-22 10:56:19</td>\n",
              "      <td>2017-12-22</td>\n",
              "      <td>0 days 10:56:19</td>\n",
              "      <td>...</td>\n",
              "      <td>1</td>\n",
              "      <td>1.66</td>\n",
              "      <td>0.21</td>\n",
              "      <td>0.12</td>\n",
              "      <td>0.09</td>\n",
              "      <td>390</td>\n",
              "      <td>-0.542308</td>\n",
              "      <td>1</td>\n",
              "      <td>0</td>\n",
              "      <td>1</td>\n",
              "    </tr>\n",
              "  </tbody>\n",
              "</table>\n",
              "<p>5 rows × 29 columns</p>\n",
              "</div>\n",
              "      <button class=\"colab-df-convert\" onclick=\"convertToInteractive('df-d5323e2a-64d7-487f-b681-8b095dc0031a')\"\n",
              "              title=\"Convert this dataframe to an interactive table.\"\n",
              "              style=\"display:none;\">\n",
              "        \n",
              "  <svg xmlns=\"http://www.w3.org/2000/svg\" height=\"24px\"viewBox=\"0 0 24 24\"\n",
              "       width=\"24px\">\n",
              "    <path d=\"M0 0h24v24H0V0z\" fill=\"none\"/>\n",
              "    <path d=\"M18.56 5.44l.94 2.06.94-2.06 2.06-.94-2.06-.94-.94-2.06-.94 2.06-2.06.94zm-11 1L8.5 8.5l.94-2.06 2.06-.94-2.06-.94L8.5 2.5l-.94 2.06-2.06.94zm10 10l.94 2.06.94-2.06 2.06-.94-2.06-.94-.94-2.06-.94 2.06-2.06.94z\"/><path d=\"M17.41 7.96l-1.37-1.37c-.4-.4-.92-.59-1.43-.59-.52 0-1.04.2-1.43.59L10.3 9.45l-7.72 7.72c-.78.78-.78 2.05 0 2.83L4 21.41c.39.39.9.59 1.41.59.51 0 1.02-.2 1.41-.59l7.78-7.78 2.81-2.81c.8-.78.8-2.07 0-2.86zM5.41 20L4 18.59l7.72-7.72 1.47 1.35L5.41 20z\"/>\n",
              "  </svg>\n",
              "      </button>\n",
              "      \n",
              "  <style>\n",
              "    .colab-df-container {\n",
              "      display:flex;\n",
              "      flex-wrap:wrap;\n",
              "      gap: 12px;\n",
              "    }\n",
              "\n",
              "    .colab-df-convert {\n",
              "      background-color: #E8F0FE;\n",
              "      border: none;\n",
              "      border-radius: 50%;\n",
              "      cursor: pointer;\n",
              "      display: none;\n",
              "      fill: #1967D2;\n",
              "      height: 32px;\n",
              "      padding: 0 0 0 0;\n",
              "      width: 32px;\n",
              "    }\n",
              "\n",
              "    .colab-df-convert:hover {\n",
              "      background-color: #E2EBFA;\n",
              "      box-shadow: 0px 1px 2px rgba(60, 64, 67, 0.3), 0px 1px 3px 1px rgba(60, 64, 67, 0.15);\n",
              "      fill: #174EA6;\n",
              "    }\n",
              "\n",
              "    [theme=dark] .colab-df-convert {\n",
              "      background-color: #3B4455;\n",
              "      fill: #D2E3FC;\n",
              "    }\n",
              "\n",
              "    [theme=dark] .colab-df-convert:hover {\n",
              "      background-color: #434B5C;\n",
              "      box-shadow: 0px 1px 3px 1px rgba(0, 0, 0, 0.15);\n",
              "      filter: drop-shadow(0px 1px 2px rgba(0, 0, 0, 0.3));\n",
              "      fill: #FFFFFF;\n",
              "    }\n",
              "  </style>\n",
              "\n",
              "      <script>\n",
              "        const buttonEl =\n",
              "          document.querySelector('#df-d5323e2a-64d7-487f-b681-8b095dc0031a button.colab-df-convert');\n",
              "        buttonEl.style.display =\n",
              "          google.colab.kernel.accessAllowed ? 'block' : 'none';\n",
              "\n",
              "        async function convertToInteractive(key) {\n",
              "          const element = document.querySelector('#df-d5323e2a-64d7-487f-b681-8b095dc0031a');\n",
              "          const dataTable =\n",
              "            await google.colab.kernel.invokeFunction('convertToInteractive',\n",
              "                                                     [key], {});\n",
              "          if (!dataTable) return;\n",
              "\n",
              "          const docLinkHtml = 'Like what you see? Visit the ' +\n",
              "            '<a target=\"_blank\" href=https://colab.research.google.com/notebooks/data_table.ipynb>data table notebook</a>'\n",
              "            + ' to learn more about interactive tables.';\n",
              "          element.innerHTML = '';\n",
              "          dataTable['output_type'] = 'display_data';\n",
              "          await google.colab.output.renderOutput(dataTable, element);\n",
              "          const docLink = document.createElement('div');\n",
              "          docLink.innerHTML = docLinkHtml;\n",
              "          element.appendChild(docLink);\n",
              "        }\n",
              "      </script>\n",
              "    </div>\n",
              "  </div>\n",
              "  "
            ]
          },
          "metadata": {},
          "execution_count": 17
        }
      ]
    },
    {
      "cell_type": "markdown",
      "source": [
        "#4. Data visualization"
      ],
      "metadata": {
        "id": "A0tYV-84oY2Z"
      }
    },
    {
      "cell_type": "code",
      "source": [
        "df = dataset.loc[dataset['Date']=='2017/12/22']"
      ],
      "metadata": {
        "id": "30UtZKij-Dn2"
      },
      "execution_count": 18,
      "outputs": []
    },
    {
      "cell_type": "code",
      "source": [
        "plt.figure( figsize = (12, 5)) \n",
        "sns.lineplot(x = 'Time', y = 'S5_CO2', data = df) \n",
        "plt.xlabel('Time')   \n",
        "plt.ylabel('C02 Level')\n",
        "plt.title('C02 level at different time of a day')\n",
        "plt.show()"
      ],
      "metadata": {
        "colab": {
          "base_uri": "https://localhost:8080/",
          "height": 350
        },
        "id": "BE--aMmF-M8Y",
        "outputId": "79cc1de9-715f-4be1-dd3f-9229e0d94e53"
      },
      "execution_count": 19,
      "outputs": [
        {
          "output_type": "display_data",
          "data": {
            "text/plain": [
              "<Figure size 864x360 with 1 Axes>"
            ],
            "image/png": "[encoded data removed]"
          },
          "metadata": {
            "needs_background": "light"
          }
        }
      ]
    },
    {
      "cell_type": "code",
      "source": [
        "plt.figure( figsize = (12, 5)) \n",
        "sns.lineplot(x = 'Time', y = 'Mean_Temperature', data = df) \n",
        "plt.xlabel('Time')   \n",
        "plt.ylabel('Temperature')\n",
        "plt.title('Temperature at different time of a day')\n",
        "plt.show()"
      ],
      "metadata": {
        "colab": {
          "base_uri": "https://localhost:8080/",
          "height": 350
        },
        "id": "7RmfY2AG_GnS",
        "outputId": "52c80ae0-c5ec-4821-b7b6-fe24dc9fb402"
      },
      "execution_count": 20,
      "outputs": [
        {
          "output_type": "display_data",
          "data": {
            "text/plain": [
              "<Figure size 864x360 with 1 Axes>"
            ],
            "image/png": "[encoded data removed]"
          },
          "metadata": {
            "needs_background": "light"
          }
        }
      ]
    },
    {
      "cell_type": "code",
      "source": [
        "dataset = dataset.drop(['Date', 'Time', 'Date_Time'], axis=1)\n",
        "dataset.head()"
      ],
      "metadata": {
        "colab": {
          "base_uri": "https://localhost:8080/",
          "height": 334
        },
        "id": "uYa7p8wlHsNn",
        "outputId": "9c4fcef3-17d9-455f-d962-d554a4786f88"
      },
      "execution_count": 21,
      "outputs": [
        {
          "output_type": "execute_result",
          "data": {
            "text/plain": [
              "   MV_CO2  MA_CO2  Mean_sound  Mean_light  Mean_Temperature  Hour of day  \\\n",
              "0     0.0   390.0     26.1200      54.375           24.9675           11   \n",
              "1     0.0   390.0     25.6275      59.860           24.9675           11   \n",
              "2     0.0   390.0     25.3875      60.125           24.9825           11   \n",
              "3     0.0   390.0     25.0900      60.125           25.0175           11   \n",
              "4     0.0   390.0     25.7175      60.140           25.0150           11   \n",
              "\n",
              "   Day of week  S1_Temp  S2_Temp  S3_Temp  ...  PIR_Level  S1_Sound  S2_Sound  \\\n",
              "0            5    25.00    24.81    24.56  ...          2      3.84      0.64   \n",
              "1            5    25.06    24.81    24.56  ...          2      2.20      0.31   \n",
              "2            5    25.06    24.81    24.56  ...          1      0.42      0.13   \n",
              "3            5    25.06    24.88    24.63  ...          1      0.21      0.15   \n",
              "4            5    25.06    24.81    24.63  ...          1      1.66      0.21   \n",
              "\n",
              "   S3_Sound  S4_Sound  S5_CO2  S5_CO2_Slope  S6_PIR  S7_PIR  \\\n",
              "0      0.48      0.39     390     -0.188462       1       1   \n",
              "1      0.33      0.21     390     -0.276923       1       1   \n",
              "2      0.14      0.09     390     -0.365385       1       0   \n",
              "3      0.07      0.06     390     -0.453846       1       0   \n",
              "4      0.12      0.09     390     -0.542308       1       0   \n",
              "\n",
              "   Room_Occupancy_Count  \n",
              "0                     1  \n",
              "1                     1  \n",
              "2                     1  \n",
              "3                     1  \n",
              "4                     1  \n",
              "\n",
              "[5 rows x 26 columns]"
            ],
            "text/html": [
              "\n",
              "  <div id=\"df-1202d7e9-7f9a-45b7-bd12-d67df4da0714\">\n",
              "    <div class=\"colab-df-container\">\n",
              "      <div>\n",
              "<style scoped>\n",
              "    .dataframe tbody tr th:only-of-type {\n",
              "        vertical-align: middle;\n",
              "    }\n",
              "\n",
              "    .dataframe tbody tr th {\n",
              "        vertical-align: top;\n",
              "    }\n",
              "\n",
              "    .dataframe thead th {\n",
              "        text-align: right;\n",
              "    }\n",
              "</style>\n",
              "<table border=\"1\" class=\"dataframe\">\n",
              "  <thead>\n",
              "    <tr style=\"text-align: right;\">\n",
              "      <th></th>\n",
              "      <th>MV_CO2</th>\n",
              "      <th>MA_CO2</th>\n",
              "      <th>Mean_sound</th>\n",
              "      <th>Mean_light</th>\n",
              "      <th>Mean_Temperature</th>\n",
              "      <th>Hour of day</th>\n",
              "      <th>Day of week</th>\n",
              "      <th>S1_Temp</th>\n",
              "      <th>S2_Temp</th>\n",
              "      <th>S3_Temp</th>\n",
              "      <th>...</th>\n",
              "      <th>PIR_Level</th>\n",
              "      <th>S1_Sound</th>\n",
              "      <th>S2_Sound</th>\n",
              "      <th>S3_Sound</th>\n",
              "      <th>S4_Sound</th>\n",
              "      <th>S5_CO2</th>\n",
              "      <th>S5_CO2_Slope</th>\n",
              "      <th>S6_PIR</th>\n",
              "      <th>S7_PIR</th>\n",
              "      <th>Room_Occupancy_Count</th>\n",
              "    </tr>\n",
              "  </thead>\n",
              "  <tbody>\n",
              "    <tr>\n",
              "      <th>0</th>\n",
              "      <td>0.0</td>\n",
              "      <td>390.0</td>\n",
              "      <td>26.1200</td>\n",
              "      <td>54.375</td>\n",
              "      <td>24.9675</td>\n",
              "      <td>11</td>\n",
              "      <td>5</td>\n",
              "      <td>25.00</td>\n",
              "      <td>24.81</td>\n",
              "      <td>24.56</td>\n",
              "      <td>...</td>\n",
              "      <td>2</td>\n",
              "      <td>3.84</td>\n",
              "      <td>0.64</td>\n",
              "      <td>0.48</td>\n",
              "      <td>0.39</td>\n",
              "      <td>390</td>\n",
              "      <td>-0.188462</td>\n",
              "      <td>1</td>\n",
              "      <td>1</td>\n",
              "      <td>1</td>\n",
              "    </tr>\n",
              "    <tr>\n",
              "      <th>1</th>\n",
              "      <td>0.0</td>\n",
              "      <td>390.0</td>\n",
              "      <td>25.6275</td>\n",
              "      <td>59.860</td>\n",
              "      <td>24.9675</td>\n",
              "      <td>11</td>\n",
              "      <td>5</td>\n",
              "      <td>25.06</td>\n",
              "      <td>24.81</td>\n",
              "      <td>24.56</td>\n",
              "      <td>...</td>\n",
              "      <td>2</td>\n",
              "      <td>2.20</td>\n",
              "      <td>0.31</td>\n",
              "      <td>0.33</td>\n",
              "      <td>0.21</td>\n",
              "      <td>390</td>\n",
              "      <td>-0.276923</td>\n",
              "      <td>1</td>\n",
              "      <td>1</td>\n",
              "      <td>1</td>\n",
              "    </tr>\n",
              "    <tr>\n",
              "      <th>2</th>\n",
              "      <td>0.0</td>\n",
              "      <td>390.0</td>\n",
              "      <td>25.3875</td>\n",
              "      <td>60.125</td>\n",
              "      <td>24.9825</td>\n",
              "      <td>11</td>\n",
              "      <td>5</td>\n",
              "      <td>25.06</td>\n",
              "      <td>24.81</td>\n",
              "      <td>24.56</td>\n",
              "      <td>...</td>\n",
              "      <td>1</td>\n",
              "      <td>0.42</td>\n",
              "      <td>0.13</td>\n",
              "      <td>0.14</td>\n",
              "      <td>0.09</td>\n",
              "      <td>390</td>\n",
              "      <td>-0.365385</td>\n",
              "      <td>1</td>\n",
              "      <td>0</td>\n",
              "      <td>1</td>\n",
              "    </tr>\n",
              "    <tr>\n",
              "      <th>3</th>\n",
              "      <td>0.0</td>\n",
              "      <td>390.0</td>\n",
              "      <td>25.0900</td>\n",
              "      <td>60.125</td>\n",
              "      <td>25.0175</td>\n",
              "      <td>11</td>\n",
              "      <td>5</td>\n",
              "      <td>25.06</td>\n",
              "      <td>24.88</td>\n",
              "      <td>24.63</td>\n",
              "      <td>...</td>\n",
              "      <td>1</td>\n",
              "      <td>0.21</td>\n",
              "      <td>0.15</td>\n",
              "      <td>0.07</td>\n",
              "      <td>0.06</td>\n",
              "      <td>390</td>\n",
              "      <td>-0.453846</td>\n",
              "      <td>1</td>\n",
              "      <td>0</td>\n",
              "      <td>1</td>\n",
              "    </tr>\n",
              "    <tr>\n",
              "      <th>4</th>\n",
              "      <td>0.0</td>\n",
              "      <td>390.0</td>\n",
              "      <td>25.7175</td>\n",
              "      <td>60.140</td>\n",
              "      <td>25.0150</td>\n",
              "      <td>11</td>\n",
              "      <td>5</td>\n",
              "      <td>25.06</td>\n",
              "      <td>24.81</td>\n",
              "      <td>24.63</td>\n",
              "      <td>...</td>\n",
              "      <td>1</td>\n",
              "      <td>1.66</td>\n",
              "      <td>0.21</td>\n",
              "      <td>0.12</td>\n",
              "      <td>0.09</td>\n",
              "      <td>390</td>\n",
              "      <td>-0.542308</td>\n",
              "      <td>1</td>\n",
              "      <td>0</td>\n",
              "      <td>1</td>\n",
              "    </tr>\n",
              "  </tbody>\n",
              "</table>\n",
              "<p>5 rows × 26 columns</p>\n",
              "</div>\n",
              "      <button class=\"colab-df-convert\" onclick=\"convertToInteractive('df-1202d7e9-7f9a-45b7-bd12-d67df4da0714')\"\n",
              "              title=\"Convert this dataframe to an interactive table.\"\n",
              "              style=\"display:none;\">\n",
              "        \n",
              "  <svg xmlns=\"http://www.w3.org/2000/svg\" height=\"24px\"viewBox=\"0 0 24 24\"\n",
              "       width=\"24px\">\n",
              "    <path d=\"M0 0h24v24H0V0z\" fill=\"none\"/>\n",
              "    <path d=\"M18.56 5.44l.94 2.06.94-2.06 2.06-.94-2.06-.94-.94-2.06-.94 2.06-2.06.94zm-11 1L8.5 8.5l.94-2.06 2.06-.94-2.06-.94L8.5 2.5l-.94 2.06-2.06.94zm10 10l.94 2.06.94-2.06 2.06-.94-2.06-.94-.94-2.06-.94 2.06-2.06.94z\"/><path d=\"M17.41 7.96l-1.37-1.37c-.4-.4-.92-.59-1.43-.59-.52 0-1.04.2-1.43.59L10.3 9.45l-7.72 7.72c-.78.78-.78 2.05 0 2.83L4 21.41c.39.39.9.59 1.41.59.51 0 1.02-.2 1.41-.59l7.78-7.78 2.81-2.81c.8-.78.8-2.07 0-2.86zM5.41 20L4 18.59l7.72-7.72 1.47 1.35L5.41 20z\"/>\n",
              "  </svg>\n",
              "      </button>\n",
              "      \n",
              "  <style>\n",
              "    .colab-df-container {\n",
              "      display:flex;\n",
              "      flex-wrap:wrap;\n",
              "      gap: 12px;\n",
              "    }\n",
              "\n",
              "    .colab-df-convert {\n",
              "      background-color: #E8F0FE;\n",
              "      border: none;\n",
              "      border-radius: 50%;\n",
              "      cursor: pointer;\n",
              "      display: none;\n",
              "      fill: #1967D2;\n",
              "      height: 32px;\n",
              "      padding: 0 0 0 0;\n",
              "      width: 32px;\n",
              "    }\n",
              "\n",
              "    .colab-df-convert:hover {\n",
              "      background-color: #E2EBFA;\n",
              "      box-shadow: 0px 1px 2px rgba(60, 64, 67, 0.3), 0px 1px 3px 1px rgba(60, 64, 67, 0.15);\n",
              "      fill: #174EA6;\n",
              "    }\n",
              "\n",
              "    [theme=dark] .colab-df-convert {\n",
              "      background-color: #3B4455;\n",
              "      fill: #D2E3FC;\n",
              "    }\n",
              "\n",
              "    [theme=dark] .colab-df-convert:hover {\n",
              "      background-color: #434B5C;\n",
              "      box-shadow: 0px 1px 3px 1px rgba(0, 0, 0, 0.15);\n",
              "      filter: drop-shadow(0px 1px 2px rgba(0, 0, 0, 0.3));\n",
              "      fill: #FFFFFF;\n",
              "    }\n",
              "  </style>\n",
              "\n",
              "      <script>\n",
              "        const buttonEl =\n",
              "          document.querySelector('#df-1202d7e9-7f9a-45b7-bd12-d67df4da0714 button.colab-df-convert');\n",
              "        buttonEl.style.display =\n",
              "          google.colab.kernel.accessAllowed ? 'block' : 'none';\n",
              "\n",
              "        async function convertToInteractive(key) {\n",
              "          const element = document.querySelector('#df-1202d7e9-7f9a-45b7-bd12-d67df4da0714');\n",
              "          const dataTable =\n",
              "            await google.colab.kernel.invokeFunction('convertToInteractive',\n",
              "                                                     [key], {});\n",
              "          if (!dataTable) return;\n",
              "\n",
              "          const docLinkHtml = 'Like what you see? Visit the ' +\n",
              "            '<a target=\"_blank\" href=https://colab.research.google.com/notebooks/data_table.ipynb>data table notebook</a>'\n",
              "            + ' to learn more about interactive tables.';\n",
              "          element.innerHTML = '';\n",
              "          dataTable['output_type'] = 'display_data';\n",
              "          await google.colab.output.renderOutput(dataTable, element);\n",
              "          const docLink = document.createElement('div');\n",
              "          docLink.innerHTML = docLinkHtml;\n",
              "          element.appendChild(docLink);\n",
              "        }\n",
              "      </script>\n",
              "    </div>\n",
              "  </div>\n",
              "  "
            ]
          },
          "metadata": {},
          "execution_count": 21
        }
      ]
    },
    {
      "cell_type": "markdown",
      "source": [
        "#5. Oversampling"
      ],
      "metadata": {
        "id": "gGP5mnzkorUx"
      }
    },
    {
      "cell_type": "code",
      "source": [
        "class_count = dataset['Room_Occupancy_Count'].value_counts()\n",
        "\n",
        "labels=[0,1,2,3]\n",
        "\n",
        "classes=[0]*len(class_count)\n",
        "for index in range(len(class_count)):\n",
        "  classes[index]= dataset[dataset['Room_Occupancy_Count'] == labels[index]]\n",
        "\n",
        "for index in range(len(classes)):\n",
        "  print('class '+str(index)+':',classes[index].shape)"
      ],
      "metadata": {
        "colab": {
          "base_uri": "https://localhost:8080/"
        },
        "id": "kKXmbNwKik_o",
        "outputId": "d8b47a17-df23-44bc-97c9-7a451618eee6"
      },
      "execution_count": 22,
      "outputs": [
        {
          "output_type": "stream",
          "name": "stdout",
          "text": [
            "class 0: (8228, 26)\n",
            "class 1: (450, 26)\n",
            "class 2: (748, 26)\n",
            "class 3: (694, 26)\n"
          ]
        }
      ]
    },
    {
      "cell_type": "code",
      "source": [
        "data=dataset.values"
      ],
      "metadata": {
        "id": "N4HVRArdqSiM"
      },
      "execution_count": 23,
      "outputs": []
    },
    {
      "cell_type": "code",
      "source": [
        "features, label = data[:, :-1], data[:, -1]"
      ],
      "metadata": {
        "id": "bQkI1vKrqd57"
      },
      "execution_count": 24,
      "outputs": []
    },
    {
      "cell_type": "code",
      "source": [
        "features = features.astype('float32')"
      ],
      "metadata": {
        "id": "_k1goShrqxoT"
      },
      "execution_count": 25,
      "outputs": []
    },
    {
      "cell_type": "code",
      "source": [
        "scaler=StandardScaler()\n",
        "scaled_features=scaler.fit_transform(features)"
      ],
      "metadata": {
        "id": "LJ6qiTD0rEEz"
      },
      "execution_count": 26,
      "outputs": []
    },
    {
      "cell_type": "code",
      "source": [
        "x_train, x_test, y_train, y_test = train_test_split(features,label,test_size = 0.20,random_state=132)"
      ],
      "metadata": {
        "id": "UZtnRyxcrQRL"
      },
      "execution_count": 27,
      "outputs": []
    },
    {
      "cell_type": "code",
      "source": [
        "oversample = SMOTE()\n",
        "x_train, y_train = oversample.fit_resample(x_train, y_train)\n",
        "\n",
        "counter = Counter(y_train)\n",
        "\n",
        "for Class,value in counter.items():\n",
        "\tpercentage = value / len(y_train) * 100\n",
        "\tprint('Class=%d, n=%d (%.3f%%)' % (Class, value, percentage))"
      ],
      "metadata": {
        "colab": {
          "base_uri": "https://localhost:8080/"
        },
        "id": "QjrtD5mOuPzq",
        "outputId": "64b1592d-8489-4742-f610-4b164a8e3f85"
      },
      "execution_count": 28,
      "outputs": [
        {
          "output_type": "stream",
          "name": "stdout",
          "text": [
            "Class=0, n=6590 (25.000%)\n",
            "Class=3, n=6590 (25.000%)\n",
            "Class=2, n=6590 (25.000%)\n",
            "Class=1, n=6590 (25.000%)\n"
          ]
        }
      ]
    },
    {
      "cell_type": "markdown",
      "source": [
        "# **K-Nearest Neighbors**\n",
        "\n",
        "---\n",
        "\n"
      ],
      "metadata": {
        "id": "Pl0JnJRBPP2k"
      }
    },
    {
      "cell_type": "code",
      "source": [
        "model = KNeighborsClassifier(n_neighbors = 50)\n",
        "model.fit(x_train, y_train)\n",
        "pred = model.predict(x_test)"
      ],
      "metadata": {
        "id": "Uuk5XlN_K-x_"
      },
      "execution_count": 29,
      "outputs": []
    },
    {
      "cell_type": "code",
      "source": [
        "from sklearn.metrics import accuracy_score\n",
        "from sklearn.metrics import precision_score\n",
        "from sklearn.metrics import recall_score\n",
        "from sklearn.metrics import f1_score\n",
        "\n",
        "print('Accuracy: ', accuracy_score(y_test, pred))\n",
        "print('Precision: ', precision_score(y_test, pred, average='macro'))\n",
        "print('Recall: ', recall_score(y_test, pred, average='macro'))\n",
        "print('f1-score: ', f1_score(y_test, pred, average='macro'))"
      ],
      "metadata": {
        "colab": {
          "base_uri": "https://localhost:8080/"
        },
        "id": "waXdn2QTL2eN",
        "outputId": "a37880d1-d396-4a15-a288-771397088794"
      },
      "execution_count": 30,
      "outputs": [
        {
          "output_type": "stream",
          "name": "stdout",
          "text": [
            "Accuracy:  0.9762845849802372\n",
            "Precision:  0.9286405873949963\n",
            "Recall:  0.9679130612035023\n",
            "f1-score:  0.9460016770597938\n"
          ]
        }
      ]
    },
    {
      "cell_type": "code",
      "source": [
        "from sklearn.metrics import roc_curve, auc\n",
        "from sklearn.multiclass import OneVsRestClassifier\n",
        "from sklearn.preprocessing import label_binarize"
      ],
      "metadata": {
        "id": "MijaqVrC7R9i"
      },
      "execution_count": 31,
      "outputs": []
    },
    {
      "cell_type": "code",
      "source": [
        "y_train_1 = label_binarize(y_train, classes=[0, 1, 2, 3])\n",
        "y_test_1 = label_binarize(y_test, classes=[0, 1, 2, 3])\n",
        "pred = label_binarize(pred, classes=[0, 1, 2, 3])\n",
        "n_classes = 4\n",
        "\n",
        "fpr = dict()\n",
        "tpr = dict()\n",
        "roc_auc = dict()\n",
        "lw=2\n",
        "for i in range(n_classes):\n",
        "    fpr[i], tpr[i], _ = roc_curve(y_test_1[:, i], pred[:, i])\n",
        "    roc_auc[i] = auc(fpr[i], tpr[i])\n",
        "colors = ['blue', 'red', 'green', 'orange']\n",
        "for i, color in zip(range(n_classes), colors):\n",
        "    plt.plot(fpr[i], tpr[i], color=color, lw=2,\n",
        "             label='ROC curve of class {0} (AUC = {1:0.2f})'\n",
        "             ''.format(i, roc_auc[i]))\n",
        "plt.plot([0, 1], [0, 1], 'k--', lw=lw)\n",
        "plt.xlim([-0.05, 1.0])\n",
        "plt.ylim([0.0, 1.05])\n",
        "plt.xlabel('False Positive Rate')\n",
        "plt.ylabel('True Positive Rate')\n",
        "plt.title('Receiver operating characteristic (ROC) for KNN Algorithm')\n",
        "plt.legend(loc=\"lower right\")\n",
        "plt.show()"
      ],
      "metadata": {
        "colab": {
          "base_uri": "https://localhost:8080/",
          "height": 295
        },
        "id": "jhqNJO55BxKd",
        "outputId": "49d9ebf6-5f20-4c74-fb80-bdff79b51b04"
      },
      "execution_count": 32,
      "outputs": [
        {
          "output_type": "display_data",
          "data": {
            "text/plain": [
              "<Figure size 432x288 with 1 Axes>"
            ],
            "image/png": "[encoded data removed]"
          },
          "metadata": {
            "needs_background": "light"
          }
        }
      ]
    },
    {
      "cell_type": "markdown",
      "source": [
        "# **Logistic Regression**"
      ],
      "metadata": {
        "id": "Vu2PULiRQW1r"
      }
    },
    {
      "cell_type": "code",
      "source": [
        "model = LogisticRegression(solver = 'lbfgs', multi_class = 'auto')\n",
        "model.fit(x_train, y_train)\n",
        "pred = model.predict(x_test)"
      ],
      "metadata": {
        "id": "9g1vaG-oBjr4"
      },
      "execution_count": null,
      "outputs": []
    },
    {
      "cell_type": "code",
      "source": [
        "print('Accuracy: ', accuracy_score(y_test, pred))\n",
        "print('Precision: ', precision_score(y_test, pred, average='macro'))\n",
        "print('Recall: ', recall_score(y_test, pred, average='macro'))\n",
        "print('f1-score: ', f1_score(y_test, pred, average='macro'))"
      ],
      "metadata": {
        "colab": {
          "base_uri": "https://localhost:8080/"
        },
        "outputId": "a8260155-be1b-4752-a03a-bf8c52bf0fd1",
        "id": "RpQreXngBtBO"
      },
      "execution_count": 40,
      "outputs": [
        {
          "output_type": "stream",
          "name": "stdout",
          "text": [
            "Accuracy:  0.9570158102766798\n",
            "Precision:  0.8968501888725611\n",
            "Recall:  0.9417666177776471\n",
            "f1-score:  0.9127760918874724\n"
          ]
        }
      ]
    },
    {
      "cell_type": "code",
      "source": [
        "y_train_2 = label_binarize(y_train, classes=[0, 1, 2, 3])\n",
        "y_test_2 = label_binarize(y_test, classes=[0, 1, 2, 3])\n",
        "pred = label_binarize(pred, classes=[0, 1, 2, 3])\n",
        "n_classes = 4\n",
        "\n",
        "fpr = dict()\n",
        "tpr = dict()\n",
        "roc_auc = dict()\n",
        "lw=2\n",
        "for i in range(n_classes):\n",
        "    fpr[i], tpr[i], _ = roc_curve(y_test_2[:, i], pred[:, i])\n",
        "    roc_auc[i] = auc(fpr[i], tpr[i])\n",
        "colors = ['blue', 'red', 'green', 'orange']\n",
        "for i, color in zip(range(n_classes), colors):\n",
        "    plt.plot(fpr[i], tpr[i], color=color, lw=2,\n",
        "             label='ROC curve of class {0} (AUC = {1:0.2f})'\n",
        "             ''.format(i, roc_auc[i]))\n",
        "plt.plot([0, 1], [0, 1], 'k--', lw=lw)\n",
        "plt.xlim([-0.05, 1.0])\n",
        "plt.ylim([0.0, 1.05])\n",
        "plt.xlabel('False Positive Rate')\n",
        "plt.ylabel('True Positive Rate')\n",
        "plt.title('Receiver operating characteristic (ROC) for Logistic Regression')\n",
        "plt.legend(loc=\"lower right\")\n",
        "plt.show()"
      ],
      "metadata": {
        "colab": {
          "base_uri": "https://localhost:8080/",
          "height": 295
        },
        "outputId": "5567a574-0e8f-4604-b503-990b8d3613e9",
        "id": "ROV6e6Z9BtBP"
      },
      "execution_count": 41,
      "outputs": [
        {
          "output_type": "display_data",
          "data": {
            "text/plain": [
              "<Figure size 432x288 with 1 Axes>"
            ],
            "image/png": "[encoded data removed]"
          },
          "metadata": {
            "needs_background": "light"
          }
        }
      ]
    },
    {
      "cell_type": "markdown",
      "source": [
        "# **Support Vector Machine**"
      ],
      "metadata": {
        "id": "AuVCzf4U_4yV"
      }
    },
    {
      "cell_type": "code",
      "source": [
        "model = SVC(kernel='rbf')\n",
        "model.fit(x_train, y_train)\n",
        "pred = model.predict(x_test)"
      ],
      "metadata": {
        "id": "_uHYdJ-X7Hj6"
      },
      "execution_count": 42,
      "outputs": []
    },
    {
      "cell_type": "code",
      "source": [
        "print(accuracy_score(y_test, pred))\n",
        "print(precision_score(y_test, pred, average='macro'))\n",
        "print(recall_score(y_test, pred, average='macro'))\n",
        "print(f1_score(y_test, pred, average='macro'))"
      ],
      "metadata": {
        "colab": {
          "base_uri": "https://localhost:8080/"
        },
        "outputId": "6f4827ac-d912-4cdc-fd45-49f8b462040e",
        "id": "EM1EwAih7Hj7"
      },
      "execution_count": 43,
      "outputs": [
        {
          "output_type": "stream",
          "name": "stdout",
          "text": [
            "0.9426877470355731\n",
            "0.8827914281992937\n",
            "0.9343989854100148\n",
            "0.8968189600109779\n"
          ]
        }
      ]
    },
    {
      "cell_type": "code",
      "source": [
        "y_train = label_binarize(y_train, classes=[0, 1, 2, 3])\n",
        "y_test = label_binarize(y_test, classes=[0, 1, 2, 3])\n",
        "pred = label_binarize(pred, classes=[0, 1, 2, 3])\n",
        "n_classes = 4\n",
        "\n",
        "fpr = dict()\n",
        "tpr = dict()\n",
        "roc_auc = dict()\n",
        "lw=2\n",
        "for i in range(n_classes):\n",
        "    fpr[i], tpr[i], _ = roc_curve(y_test[:, i], pred[:, i])\n",
        "    roc_auc[i] = auc(fpr[i], tpr[i])\n",
        "colors = ['blue', 'red', 'green', 'orange']\n",
        "for i, color in zip(range(n_classes), colors):\n",
        "    plt.plot(fpr[i], tpr[i], color=color, lw=2,\n",
        "             label='ROC curve of class {0} (AUC = {1:0.2f})'\n",
        "             ''.format(i, roc_auc[i]))\n",
        "plt.plot([0, 1], [0, 1], 'k--', lw=lw)\n",
        "plt.xlim([-0.05, 1.0])\n",
        "plt.ylim([0.0, 1.05])\n",
        "plt.xlabel('False Positive Rate')\n",
        "plt.ylabel('True Positive Rate')\n",
        "plt.title('Receiver operating characteristic (ROC) for SVM')\n",
        "plt.legend(loc=\"lower right\")\n",
        "plt.show()"
      ],
      "metadata": {
        "colab": {
          "base_uri": "https://localhost:8080/",
          "height": 295
        },
        "outputId": "5426963c-78d3-420a-fbc8-7d6efc1230fb",
        "id": "xG4DQZbR7Hj8"
      },
      "execution_count": 44,
      "outputs": [
        {
          "output_type": "display_data",
          "data": {
            "text/plain": [
              "<Figure size 432x288 with 1 Axes>"
            ],
            "image/png": "[encoded data removed]"
          },
          "metadata": {
            "needs_background": "light"
          }
        }
      ]
    },
    {
      "cell_type": "markdown",
      "source": [
        "# **Naive Bayes**"
      ],
      "metadata": {
        "id": "LF5rhXxXDtoz"
      }
    },
    {
      "cell_type": "code",
      "source": [
        "model = GaussianNB()\n",
        "model = MultiOutputClassifier(model, n_jobs=-1)\n",
        "model.fit(x_train, y_train)\n",
        "pred = model.predict(x_test)"
      ],
      "metadata": {
        "id": "1p6XK7km_yim"
      },
      "execution_count": 51,
      "outputs": []
    },
    {
      "cell_type": "code",
      "source": [
        "print(accuracy_score(y_test, pred))\n",
        "print(precision_score(y_test, pred, average='macro'))\n",
        "print(recall_score(y_test, pred, average='macro'))\n",
        "print(f1_score(y_test, pred, average='macro'))"
      ],
      "metadata": {
        "colab": {
          "base_uri": "https://localhost:8080/"
        },
        "outputId": "ec6ae69b-707c-4d0d-e4bb-06c69d9fd2eb",
        "id": "6H6JIjLD_yim"
      },
      "execution_count": 52,
      "outputs": [
        {
          "output_type": "stream",
          "name": "stdout",
          "text": [
            "0.8552371541501976\n",
            "0.7745196611763837\n",
            "0.8864317361560008\n",
            "0.8134595989709715\n"
          ]
        }
      ]
    },
    {
      "cell_type": "code",
      "source": [
        "y_train = label_binarize(y_train, classes=[0, 1, 2, 3])\n",
        "y_test = label_binarize(y_test, classes=[0, 1, 2, 3])\n",
        "pred = label_binarize(pred, classes=[0, 1, 2, 3])\n",
        "n_classes = 4\n",
        "\n",
        "fpr = dict()\n",
        "tpr = dict()\n",
        "roc_auc = dict()\n",
        "lw=2\n",
        "for i in range(n_classes):\n",
        "    fpr[i], tpr[i], _ = roc_curve(y_test[:, i], pred[:, i])\n",
        "    roc_auc[i] = auc(fpr[i], tpr[i])\n",
        "colors = ['blue', 'red', 'green', 'orange']\n",
        "for i, color in zip(range(n_classes), colors):\n",
        "    plt.plot(fpr[i], tpr[i], color=color, lw=2,\n",
        "             label='ROC curve of class {0} (AUC = {1:0.2f})'\n",
        "             ''.format(i, roc_auc[i]))\n",
        "plt.plot([0, 1], [0, 1], 'k--', lw=lw)\n",
        "plt.xlim([-0.05, 1.0])\n",
        "plt.ylim([0.0, 1.05])\n",
        "plt.xlabel('False Positive Rate')\n",
        "plt.ylabel('True Positive Rate')\n",
        "plt.title('Receiver operating characteristic (ROC) for Naive Bayes')\n",
        "plt.legend(loc=\"lower right\")\n",
        "plt.show()"
      ],
      "metadata": {
        "colab": {
          "base_uri": "https://localhost:8080/",
          "height": 295
        },
        "outputId": "17387414-2649-4eae-aed6-8a76c902c697",
        "id": "oFBehEmS_yin"
      },
      "execution_count": 53,
      "outputs": [
        {
          "output_type": "display_data",
          "data": {
            "text/plain": [
              "<Figure size 432x288 with 1 Axes>"
            ],
            "image/png": "[encoded data removed]"
          },
          "metadata": {
            "needs_background": "light"
          }
        }
      ]
    },
    {
      "cell_type": "markdown",
      "source": [
        "# **Decision Tree**"
      ],
      "metadata": {
        "id": "y-kakkI8BQeX"
      }
    },
    {
      "cell_type": "code",
      "source": [
        "model=DecisionTreeClassifier(max_depth=3)\n",
        "model.fit(x_train, y_train)\n",
        "pred = model.predict(x_test)"
      ],
      "metadata": {
        "id": "g5JvSeLN_yin"
      },
      "execution_count": 48,
      "outputs": []
    },
    {
      "cell_type": "code",
      "source": [
        "print(accuracy_score(y_test, pred))\n",
        "print(precision_score(y_test, pred, average='macro'))\n",
        "print(recall_score(y_test, pred, average='macro'))\n",
        "print(f1_score(y_test, pred, average='macro'))"
      ],
      "metadata": {
        "colab": {
          "base_uri": "https://localhost:8080/"
        },
        "outputId": "210c0bc2-1f17-46fa-f798-d7b7f8398814",
        "id": "KpPE31H0_yip"
      },
      "execution_count": 49,
      "outputs": [
        {
          "output_type": "stream",
          "name": "stdout",
          "text": [
            "0.958498023715415\n",
            "0.8932123910572187\n",
            "0.9609478042382456\n",
            "0.9192791822716403\n"
          ]
        }
      ]
    },
    {
      "cell_type": "code",
      "source": [
        "y_train = label_binarize(y_train, classes=[0, 1, 2, 3])\n",
        "y_test = label_binarize(y_test, classes=[0, 1, 2, 3])\n",
        "pred = label_binarize(pred, classes=[0, 1, 2, 3])\n",
        "n_classes = 4\n",
        "\n",
        "fpr = dict()\n",
        "tpr = dict()\n",
        "roc_auc = dict()\n",
        "lw=2\n",
        "for i in range(n_classes):\n",
        "    fpr[i], tpr[i], _ = roc_curve(y_test[:, i], pred[:, i])\n",
        "    roc_auc[i] = auc(fpr[i], tpr[i])\n",
        "colors = ['blue', 'red', 'green', 'orange']\n",
        "for i, color in zip(range(n_classes), colors):\n",
        "    plt.plot(fpr[i], tpr[i], color=color, lw=2,\n",
        "             label='ROC curve of class {0} (AUC = {1:0.2f})'\n",
        "             ''.format(i, roc_auc[i]))\n",
        "plt.plot([0, 1], [0, 1], 'k--', lw=lw)\n",
        "plt.xlim([-0.05, 1.0])\n",
        "plt.ylim([0.0, 1.05])\n",
        "plt.xlabel('False Positive Rate')\n",
        "plt.ylabel('True Positive Rate')\n",
        "plt.title('Receiver operating characteristic (ROC) for Decision Tree')\n",
        "plt.legend(loc=\"lower right\")\n",
        "plt.show()"
      ],
      "metadata": {
        "colab": {
          "base_uri": "https://localhost:8080/",
          "height": 295
        },
        "outputId": "710cade1-e769-49b2-86ec-b9a7551cd287",
        "id": "QzkJuX0v_yip"
      },
      "execution_count": 50,
      "outputs": [
        {
          "output_type": "display_data",
          "data": {
            "text/plain": [
              "<Figure size 432x288 with 1 Axes>"
            ],
            "image/png": "[encoded data removed]"
          },
          "metadata": {
            "needs_background": "light"
          }
        }
      ]
    }
  ]
}